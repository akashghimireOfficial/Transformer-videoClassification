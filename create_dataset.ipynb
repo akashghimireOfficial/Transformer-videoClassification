{
 "cells": [
  {
   "cell_type": "code",
   "execution_count": 1,
   "id": "d68adc97",
   "metadata": {},
   "outputs": [],
   "source": [
    "import os \n",
    "from glob import glob \n",
    "import tensorflow as tf \n",
    "from tensorflow.keras.layers import Layer,Dropout,Dense,BatchNormalization,Flatten\n",
    "from tensorflow.keras.utils import to_categorical,plot_model\n",
    "from tensorflow.keras.applications import DenseNet121\n",
    "from tensorflow.keras.applications.densenet import preprocess_input\n",
    "from tensorflow.keras.optimizers import Adam\n",
    "from tensorflow.keras.callbacks import EarlyStopping\n",
    "from sklearn.model_selection import train_test_split\n",
    "import cv2 as cv\n",
    "import numpy as np\n",
    "import pandas as pd\n",
    "import matplotlib.pyplot as plt\n",
    "%matplotlib inline"
   ]
  },
  {
   "cell_type": "code",
   "execution_count": 2,
   "id": "3ff4844a",
   "metadata": {},
   "outputs": [],
   "source": [
    "import datetime as dt \n",
    "from collections import deque\n",
    "from moviepy.editor import *\n",
    "import pafy\n",
    "import random\n",
    "import time"
   ]
  },
  {
   "cell_type": "code",
   "execution_count": 3,
   "id": "b1dbea59",
   "metadata": {},
   "outputs": [],
   "source": [
    "seed_constant = 50\n",
    "np.random.seed(seed_constant)\n",
    "random.seed(seed_constant)\n",
    "tf.random.set_seed(seed_constant)"
   ]
  },
  {
   "cell_type": "code",
   "execution_count": 4,
   "id": "b0719e90",
   "metadata": {},
   "outputs": [],
   "source": [
    "data_set_dire='UCF-101'\n",
    "CLASSES_LIST = [\"WalkingWithDog\", \"TaiChi\", \"Swing\", \"HorseRace\"]\n",
    "seq_len=20\n",
    "resized_height,resized_width=128,128\n",
    "num_features=1024"
   ]
  },
  {
   "cell_type": "code",
   "execution_count": 38,
   "id": "21ae6ba8",
   "metadata": {},
   "outputs": [],
   "source": [
    "def extract_frames(video_dire):\n",
    "    extracted_frames=[]\n",
    "    video_reader=cv.VideoCapture(video_dire)\n",
    "    total_frames=int(video_reader.get(cv.CAP_PROP_FRAME_COUNT))\n",
    "    skip_frames=max(int(total_frames/seq_len),1)\n",
    "    for frame_counter in range(total_frames):\n",
    "        video_reader.set(cv.CAP_PROP_POS_FRAMES,frame_counter*skip_frames)\n",
    "        sucess,frame=video_reader.read()\n",
    "        if not sucess:\n",
    "            break\n",
    "        resized_frame=cv.resize(frame,(resized_width,resized_height))\n",
    "        extracted_frames.append(resized_frame)\n",
    "    extracted_frames=np.array(extracted_frames)\n",
    "    return extracted_frames    "
   ]
  },
  {
   "cell_type": "code",
   "execution_count": 39,
   "id": "f560b483",
   "metadata": {},
   "outputs": [],
   "source": [
    "def features_extraction_model():\n",
    "    feature_extractor=DenseNet121(include_top=False,weights='imagenet',\n",
    "                        pooling='avg',\n",
    "                        input_shape=(resized_height,resized_width,3))\n",
    "    inputs=tf.keras.Input((resized_height,resized_width,3))\n",
    "    preprocessed=preprocess_input(inputs)\n",
    "    outputs=feature_extractor(preprocessed)\n",
    "    model=tf.keras.Model(inputs,outputs,name='feature_extractor')\n",
    "    return model"
   ]
  },
  {
   "cell_type": "code",
   "execution_count": 40,
   "id": "cd625ed0",
   "metadata": {},
   "outputs": [],
   "source": [
    "feature_extractor_model=features_extraction_model()"
   ]
  },
  {
   "cell_type": "code",
   "execution_count": 47,
   "id": "def3755c",
   "metadata": {},
   "outputs": [],
   "source": [
    "def create_dataset():\n",
    "    labels=[]\n",
    "    features=[]\n",
    "    for idx,className in enumerate(CLASSES_LIST):\n",
    "        video_dires_list=glob(os.path.join(data_set_dire,className)+\"/*\")\n",
    "        for video_dire in video_dires_list:\n",
    "            extracted_frames=extract_frames(video_dire)\n",
    "            if len(extracted_frames)==20:\n",
    "                print(1)\n",
    "                get_features=feature_extractor_model.predict(extracted_frames)\n",
    "                features.append(get_features)\n",
    "                labels.append(idx)\n",
    "                \n",
    "    return features,labels"
   ]
  },
  {
   "cell_type": "code",
   "execution_count": 48,
   "id": "c01b8c9b",
   "metadata": {},
   "outputs": [
    {
     "name": "stdout",
     "output_type": "stream",
     "text": [
      "1\n",
      "1\n",
      "1\n",
      "1\n",
      "1\n",
      "1\n",
      "1\n",
      "1\n",
      "1\n",
      "1\n",
      "1\n",
      "1\n",
      "1\n",
      "1\n",
      "1\n",
      "1\n",
      "1\n",
      "1\n",
      "1\n",
      "1\n",
      "1\n",
      "1\n",
      "1\n",
      "1\n",
      "1\n",
      "1\n",
      "1\n",
      "1\n",
      "1\n",
      "1\n",
      "1\n",
      "1\n",
      "1\n",
      "1\n",
      "1\n",
      "1\n",
      "1\n",
      "1\n",
      "1\n",
      "1\n",
      "1\n",
      "1\n",
      "1\n",
      "1\n",
      "1\n",
      "1\n",
      "1\n",
      "1\n",
      "1\n",
      "1\n",
      "1\n",
      "1\n",
      "1\n",
      "1\n",
      "1\n",
      "1\n",
      "1\n",
      "1\n",
      "1\n",
      "1\n",
      "1\n",
      "1\n",
      "1\n",
      "1\n",
      "1\n",
      "1\n",
      "1\n",
      "1\n",
      "1\n",
      "1\n",
      "1\n",
      "1\n",
      "1\n",
      "1\n",
      "1\n",
      "1\n",
      "1\n",
      "1\n",
      "1\n",
      "1\n",
      "1\n",
      "1\n",
      "1\n",
      "1\n",
      "1\n",
      "1\n",
      "1\n",
      "1\n",
      "1\n",
      "1\n",
      "1\n",
      "1\n",
      "1\n",
      "1\n",
      "1\n",
      "1\n",
      "1\n",
      "1\n",
      "1\n",
      "1\n",
      "1\n",
      "1\n",
      "1\n",
      "1\n",
      "1\n",
      "1\n",
      "1\n",
      "1\n",
      "1\n",
      "1\n",
      "1\n",
      "1\n",
      "1\n",
      "1\n",
      "1\n",
      "1\n",
      "1\n",
      "1\n",
      "1\n",
      "1\n",
      "1\n",
      "1\n",
      "1\n",
      "1\n",
      "1\n"
     ]
    }
   ],
   "source": [
    "features,labels=create_dataset()"
   ]
  },
  {
   "cell_type": "code",
   "execution_count": 50,
   "id": "59a4bfc2",
   "metadata": {},
   "outputs": [],
   "source": [
    "features=np.array(features)\n",
    "labels=np.array(labels)"
   ]
  },
  {
   "cell_type": "code",
   "execution_count": 52,
   "id": "8d465ba3",
   "metadata": {},
   "outputs": [],
   "source": [
    "np.save('features',features)\n",
    "np.save('labels',labels)"
   ]
  },
  {
   "cell_type": "code",
   "execution_count": 46,
   "id": "a0025209",
   "metadata": {},
   "outputs": [
    {
     "data": {
      "text/plain": [
       "(22, 1024)"
      ]
     },
     "execution_count": 46,
     "metadata": {},
     "output_type": "execute_result"
    }
   ],
   "source": [
    "a.shape"
   ]
  },
  {
   "cell_type": "code",
   "execution_count": null,
   "id": "14c73d84",
   "metadata": {},
   "outputs": [],
   "source": []
  }
 ],
 "metadata": {
  "kernelspec": {
   "display_name": "Python 3 (ipykernel)",
   "language": "python",
   "name": "python3"
  },
  "language_info": {
   "codemirror_mode": {
    "name": "ipython",
    "version": 3
   },
   "file_extension": ".py",
   "mimetype": "text/x-python",
   "name": "python",
   "nbconvert_exporter": "python",
   "pygments_lexer": "ipython3",
   "version": "3.9.7"
  }
 },
 "nbformat": 4,
 "nbformat_minor": 5
}

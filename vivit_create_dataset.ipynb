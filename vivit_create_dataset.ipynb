{
 "cells": [
  {
   "cell_type": "code",
   "execution_count": 1,
   "id": "dbc45c7a",
   "metadata": {},
   "outputs": [],
   "source": [
    "from vivit_create_dataset import *"
   ]
  },
  {
   "cell_type": "code",
   "execution_count": 2,
   "id": "4c5c2c2c",
   "metadata": {},
   "outputs": [],
   "source": [
    "features,labels=create_dataset()"
   ]
  },
  {
   "cell_type": "code",
   "execution_count": 3,
   "id": "b72878ee",
   "metadata": {},
   "outputs": [
    {
     "data": {
      "text/plain": [
       "(477, 64, 64, 64, 3)"
      ]
     },
     "execution_count": 3,
     "metadata": {},
     "output_type": "execute_result"
    }
   ],
   "source": [
    "features.shape"
   ]
  },
  {
   "cell_type": "code",
   "execution_count": 4,
   "id": "a3f8fc71",
   "metadata": {},
   "outputs": [],
   "source": [
    "features=np.array(features)"
   ]
  },
  {
   "cell_type": "code",
   "execution_count": 5,
   "id": "a3df20c9",
   "metadata": {},
   "outputs": [],
   "source": [
    "np.save('vivit_features',features)\n",
    "np.save('vivit_labels',labels)"
   ]
  },
  {
   "cell_type": "code",
   "execution_count": 6,
   "id": "90e74ac7",
   "metadata": {},
   "outputs": [],
   "source": [
    "a=np.load('vivit_features.npy')"
   ]
  },
  {
   "cell_type": "code",
   "execution_count": 8,
   "id": "92e43bba",
   "metadata": {},
   "outputs": [
    {
     "data": {
      "text/plain": [
       "(477, 64, 64, 64, 3)"
      ]
     },
     "execution_count": 8,
     "metadata": {},
     "output_type": "execute_result"
    }
   ],
   "source": [
    "a.shape"
   ]
  },
  {
   "cell_type": "code",
   "execution_count": 7,
   "id": "40480c5e",
   "metadata": {},
   "outputs": [
    {
     "data": {
      "text/plain": [
       "(478,)"
      ]
     },
     "execution_count": 7,
     "metadata": {},
     "output_type": "execute_result"
    }
   ],
   "source": [
    "labels.shape"
   ]
  },
  {
   "cell_type": "code",
   "execution_count": null,
   "id": "169846e8",
   "metadata": {},
   "outputs": [],
   "source": [
    "a=features.reshape(-1)"
   ]
  }
 ],
 "metadata": {
  "kernelspec": {
   "display_name": "Python 3 (ipykernel)",
   "language": "python",
   "name": "python3"
  },
  "language_info": {
   "codemirror_mode": {
    "name": "ipython",
    "version": 3
   },
   "file_extension": ".py",
   "mimetype": "text/x-python",
   "name": "python",
   "nbconvert_exporter": "python",
   "pygments_lexer": "ipython3",
   "version": "3.9.7"
  }
 },
 "nbformat": 4,
 "nbformat_minor": 5
}

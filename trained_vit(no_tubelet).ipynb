{
 "cells": [
  {
   "cell_type": "code",
   "execution_count": 21,
   "id": "d94274a6",
   "metadata": {},
   "outputs": [],
   "source": [
    "from tensorflow_docs.vis import embed\n",
    "from tensorflow.keras import layers\n",
    "from tensorflow.keras.layers import Dense,Dropout,GlobalMaxPool1D\n",
    "from tensorflow.keras.optimizers import Adam\n",
    "import matplotlib.pyplot as plt\n",
    "import tensorflow as tf\n",
    "from sklearn.model_selection import train_test_split\n",
    "from tensorflow.keras.utils import to_categorical,plot_model\n",
    "\n",
    "import pandas as pd\n",
    "import numpy as np\n",
    "import imageio\n",
    "from numpy import random\n",
    "import cv2\n",
    "import pafy\n",
    "import os\n",
    "%matplotlib inline"
   ]
  },
  {
   "cell_type": "code",
   "execution_count": 22,
   "id": "e3966d0f",
   "metadata": {},
   "outputs": [],
   "source": [
    "import datetime as dt \n",
    "from collections import deque\n",
    "from moviepy.editor import *\n",
    "import pafy\n",
    "import random\n",
    "import time"
   ]
  },
  {
   "cell_type": "code",
   "execution_count": 23,
   "id": "d6f09692",
   "metadata": {
    "scrolled": true
   },
   "outputs": [],
   "source": [
    "import create_dataset"
   ]
  },
  {
   "cell_type": "code",
   "execution_count": 24,
   "id": "5c444491",
   "metadata": {},
   "outputs": [],
   "source": [
    "#features,labels=create_dataset.create_dataset()"
   ]
  },
  {
   "cell_type": "code",
   "execution_count": 25,
   "id": "6a8fdc48",
   "metadata": {},
   "outputs": [],
   "source": [
    "#features=np.array(features)\n",
    "#np.save('features.npy',features)\n",
    "#labels=np.array(labels)\n",
    "#np.save('labels.npy',labels)"
   ]
  },
  {
   "cell_type": "code",
   "execution_count": 26,
   "id": "84cb5c9b",
   "metadata": {},
   "outputs": [],
   "source": [
    "seed_constant = 50\n",
    "np.random.seed(seed_constant)\n",
    "random.seed(seed_constant)\n",
    "tf.random.set_seed(seed_constant)"
   ]
  },
  {
   "cell_type": "code",
   "execution_count": 27,
   "id": "296816ce",
   "metadata": {},
   "outputs": [],
   "source": [
    "labels=np.load('labels.npy')\n",
    "features=np.load('features.npy')"
   ]
  },
  {
   "cell_type": "code",
   "execution_count": 28,
   "id": "891c7aef",
   "metadata": {},
   "outputs": [],
   "source": [
    "num_class=len(np.unique(labels))"
   ]
  },
  {
   "cell_type": "code",
   "execution_count": 29,
   "id": "df675d18",
   "metadata": {},
   "outputs": [],
   "source": [
    "labels=to_categorical(labels,num_classes=num_class)"
   ]
  },
  {
   "cell_type": "code",
   "execution_count": 30,
   "id": "51224335",
   "metadata": {},
   "outputs": [],
   "source": [
    " X_train, X_test, y_train, y_test = train_test_split(features, labels, test_size=0.33, random_state=42)"
   ]
  },
  {
   "cell_type": "code",
   "execution_count": 31,
   "id": "144e67eb",
   "metadata": {},
   "outputs": [],
   "source": [
    "MAX_SEQ_LENGTH = 20\n",
    "NUM_FEATURES = 1024\n",
    "IMG_SIZE = 128\n",
    "\n",
    "EPOCHS = 5"
   ]
  },
  {
   "cell_type": "code",
   "execution_count": 32,
   "id": "b5d4e85c",
   "metadata": {},
   "outputs": [],
   "source": [
    "class PositionalEmbedding(layers.Layer):\n",
    "    def __init__(self,sequence_length,output_dim,**kwargs):\n",
    "        super().__init__(**kwargs)\n",
    "        self.position_embedding=layers.Embedding(input_dim=sequence_length,\n",
    "                                                output_dim=output_dim)\n",
    "        \n",
    "        self.sequence_length=sequence_length\n",
    "        self.output_dim=output_dim\n",
    "        \n",
    "    def call(self,inputs):\n",
    "        length=tf.shape(inputs)[1]\n",
    "        positions=tf.range(start=0,limit=length,delta=1)\n",
    "        embedded_positions=self.position_embedding(positions)\n",
    "        return inputs +embedded_positions\n",
    "    \n",
    "    def compute_mask(self,inputs,mask=None):\n",
    "        mask=tf.reduce_any(tf.cast(inputs,'bool'),axis=-1)\n",
    "        return mask"
   ]
  },
  {
   "cell_type": "code",
   "execution_count": 36,
   "id": "4682c418",
   "metadata": {},
   "outputs": [],
   "source": [
    "class TransformerEncoder(layers.Layer):\n",
    "    def __init__(self, embed_dim, dense_dim, num_heads, **kwargs):\n",
    "        super().__init__(**kwargs)\n",
    "        self.embed_dim = embed_dim\n",
    "        self.dense_dim = dense_dim\n",
    "        self.num_heads = num_heads\n",
    "        self.attention = layers.MultiHeadAttention(\n",
    "            num_heads=num_heads, key_dim=embed_dim, dropout=0.4\n",
    "        )\n",
    "        self.dense_proj = tf.keras.Sequential(\n",
    "            [layers.Dense(dense_dim, activation=tf.nn.gelu), layers.Dense(embed_dim),]\n",
    "        )\n",
    "        self.layernorm_1 = layers.LayerNormalization()\n",
    "        self.layernorm_2 = layers.LayerNormalization()\n",
    "\n",
    "    def call(self, inputs, mask=None):\n",
    "        if mask is not None:\n",
    "            mask = mask[:, tf.newaxis, :]\n",
    "\n",
    "        attention_output = self.attention(inputs, inputs, attention_mask=mask)\n",
    "        proj_input = self.layernorm_1(inputs + attention_output)\n",
    "        proj_output = self.dense_proj(proj_input)\n",
    "        return self.layernorm_2(proj_input + proj_output)"
   ]
  },
  {
   "cell_type": "code",
   "execution_count": 37,
   "id": "34b9757d",
   "metadata": {},
   "outputs": [],
   "source": [
    "##Qn  Why no TransformerDecoder was used\n",
    "## not used in the paper vivit\n",
    "## look into vivit paper for more information \n"
   ]
  },
  {
   "cell_type": "code",
   "execution_count": 38,
   "id": "514863bb",
   "metadata": {},
   "outputs": [],
   "source": [
    "def get_compiled_model():\n",
    "    sequence_length=MAX_SEQ_LENGTH\n",
    "    embed_dim=NUM_FEATURES\n",
    "    dense_dim=4\n",
    "    num_heads=1\n",
    "    classes=num_class\n",
    "    lr=0.001\n",
    "    inputs=tf.keras.Input(shape=(sequence_length,embed_dim))\n",
    "    x=PositionalEmbedding(sequence_length,embed_dim,name='Frame_positional_embedding')(inputs)\n",
    "    x=TransformerEncoder(embed_dim,dense_dim,num_heads,name='TransformerEncoder')(x)\n",
    "    x=GlobalMaxPool1D()(x)\n",
    "    x=Dropout(0.5)(x)\n",
    "    \n",
    "    outputs=Dense(num_class,activation='softmax')(x)\n",
    "    model=tf.keras.Model(inputs,outputs,name='vit')\n",
    "    model.compile(optimizer=Adam(learning_rate=lr),loss='categorical_crossentropy',metrics=['accuracy'])\n",
    "    return model\n",
    "    \n",
    "    "
   ]
  },
  {
   "cell_type": "code",
   "execution_count": 39,
   "id": "32b2d0a3",
   "metadata": {},
   "outputs": [],
   "source": [
    "vit_model_no_tubelet=get_compiled_model()"
   ]
  },
  {
   "cell_type": "code",
   "execution_count": 40,
   "id": "52a123f5",
   "metadata": {},
   "outputs": [
    {
     "name": "stdout",
     "output_type": "stream",
     "text": [
      "Model: \"vit\"\n",
      "_________________________________________________________________\n",
      " Layer (type)                Output Shape              Param #   \n",
      "=================================================================\n",
      " input_4 (InputLayer)        [(None, 20, 1024)]        0         \n",
      "                                                                 \n",
      " Frame_positional_embedding   (None, 20, 1024)         20480     \n",
      " (PositionalEmbedding)                                           \n",
      "                                                                 \n",
      " TransformerEncoder (Transfo  (None, 20, 1024)         4211716   \n",
      " rmerEncoder)                                                    \n",
      "                                                                 \n",
      " global_max_pooling1d_1 (Glo  (None, 1024)             0         \n",
      " balMaxPooling1D)                                                \n",
      "                                                                 \n",
      " dropout_1 (Dropout)         (None, 1024)              0         \n",
      "                                                                 \n",
      " dense_5 (Dense)             (None, 4)                 4100      \n",
      "                                                                 \n",
      "=================================================================\n",
      "Total params: 4,236,296\n",
      "Trainable params: 4,236,296\n",
      "Non-trainable params: 0\n",
      "_________________________________________________________________\n"
     ]
    }
   ],
   "source": [
    "vit_model_no_tubelet.summary()"
   ]
  },
  {
   "cell_type": "code",
   "execution_count": 41,
   "id": "4b05b959",
   "metadata": {
    "scrolled": false
   },
   "outputs": [
    {
     "name": "stdout",
     "output_type": "stream",
     "text": [
      "Epoch 1/50\n",
      "1/3 [=========>....................] - ETA: 3s - loss: 2.4153 - accuracy: 0.4375\n",
      "Epoch 1: saving model to saved_model_no_tubelet\n"
     ]
    },
    {
     "name": "stderr",
     "output_type": "stream",
     "text": [
      "WARNING:absl:Found untraced functions such as embedding_1_layer_call_fn, embedding_1_layer_call_and_return_conditional_losses, multi_head_attention_1_layer_call_fn, multi_head_attention_1_layer_call_and_return_conditional_losses, layer_normalization_2_layer_call_fn while saving (showing 5 of 20). These functions will not be directly callable after loading.\n"
     ]
    },
    {
     "name": "stdout",
     "output_type": "stream",
     "text": [
      "INFO:tensorflow:Assets written to: saved_model_no_tubelet/assets\n"
     ]
    },
    {
     "name": "stderr",
     "output_type": "stream",
     "text": [
      "INFO:tensorflow:Assets written to: saved_model_no_tubelet/assets\n",
      "WARNING:py.warnings:/home/akash/anaconda3/envs/vision/lib/python3.9/site-packages/keras/engine/functional.py:1410: CustomMaskWarning: Custom mask layers require a config and must override get_config. When loading, the custom mask layer must be passed to the custom_objects argument.\n",
      "  layer_config = serialize_layer_fn(layer)\n",
      "\n",
      "WARNING:py.warnings:/home/akash/anaconda3/envs/vision/lib/python3.9/site-packages/keras/saving/saved_model/layer_serialization.py:112: CustomMaskWarning: Custom mask layers require a config and must override get_config. When loading, the custom mask layer must be passed to the custom_objects argument.\n",
      "  return generic_utils.serialize_keras_object(obj)\n",
      "\n"
     ]
    },
    {
     "name": "stdout",
     "output_type": "stream",
     "text": [
      "3/3 [==============================] - 7s 2s/step - loss: 4.8490 - accuracy: 0.5455 - val_loss: 1.1761 - val_accuracy: 0.6471\n",
      "Epoch 2/50\n",
      "1/3 [=========>....................] - ETA: 0s - loss: 1.0853 - accuracy: 0.7500\n",
      "Epoch 2: saving model to saved_model_no_tubelet\n"
     ]
    },
    {
     "name": "stderr",
     "output_type": "stream",
     "text": [
      "WARNING:absl:Found untraced functions such as embedding_1_layer_call_fn, embedding_1_layer_call_and_return_conditional_losses, multi_head_attention_1_layer_call_fn, multi_head_attention_1_layer_call_and_return_conditional_losses, layer_normalization_2_layer_call_fn while saving (showing 5 of 20). These functions will not be directly callable after loading.\n"
     ]
    },
    {
     "name": "stdout",
     "output_type": "stream",
     "text": [
      "INFO:tensorflow:Assets written to: saved_model_no_tubelet/assets\n"
     ]
    },
    {
     "name": "stderr",
     "output_type": "stream",
     "text": [
      "INFO:tensorflow:Assets written to: saved_model_no_tubelet/assets\n",
      "WARNING:py.warnings:/home/akash/anaconda3/envs/vision/lib/python3.9/site-packages/keras/engine/functional.py:1410: CustomMaskWarning: Custom mask layers require a config and must override get_config. When loading, the custom mask layer must be passed to the custom_objects argument.\n",
      "  layer_config = serialize_layer_fn(layer)\n",
      "\n",
      "WARNING:py.warnings:/home/akash/anaconda3/envs/vision/lib/python3.9/site-packages/keras/saving/saved_model/layer_serialization.py:112: CustomMaskWarning: Custom mask layers require a config and must override get_config. When loading, the custom mask layer must be passed to the custom_objects argument.\n",
      "  return generic_utils.serialize_keras_object(obj)\n",
      "\n"
     ]
    },
    {
     "name": "stdout",
     "output_type": "stream",
     "text": [
      "3/3 [==============================] - 3s 2s/step - loss: 1.0934 - accuracy: 0.7424 - val_loss: 1.5124 - val_accuracy: 0.2353\n",
      "Epoch 3/50\n",
      "1/3 [=========>....................] - ETA: 0s - loss: 1.0105 - accuracy: 0.5312\n",
      "Epoch 3: saving model to saved_model_no_tubelet\n"
     ]
    },
    {
     "name": "stderr",
     "output_type": "stream",
     "text": [
      "WARNING:absl:Found untraced functions such as embedding_1_layer_call_fn, embedding_1_layer_call_and_return_conditional_losses, multi_head_attention_1_layer_call_fn, multi_head_attention_1_layer_call_and_return_conditional_losses, layer_normalization_2_layer_call_fn while saving (showing 5 of 20). These functions will not be directly callable after loading.\n"
     ]
    },
    {
     "name": "stdout",
     "output_type": "stream",
     "text": [
      "INFO:tensorflow:Assets written to: saved_model_no_tubelet/assets\n"
     ]
    },
    {
     "name": "stderr",
     "output_type": "stream",
     "text": [
      "INFO:tensorflow:Assets written to: saved_model_no_tubelet/assets\n",
      "WARNING:py.warnings:/home/akash/anaconda3/envs/vision/lib/python3.9/site-packages/keras/engine/functional.py:1410: CustomMaskWarning: Custom mask layers require a config and must override get_config. When loading, the custom mask layer must be passed to the custom_objects argument.\n",
      "  layer_config = serialize_layer_fn(layer)\n",
      "\n",
      "WARNING:py.warnings:/home/akash/anaconda3/envs/vision/lib/python3.9/site-packages/keras/saving/saved_model/layer_serialization.py:112: CustomMaskWarning: Custom mask layers require a config and must override get_config. When loading, the custom mask layer must be passed to the custom_objects argument.\n",
      "  return generic_utils.serialize_keras_object(obj)\n",
      "\n"
     ]
    },
    {
     "name": "stdout",
     "output_type": "stream",
     "text": [
      "3/3 [==============================] - 4s 2s/step - loss: 1.2427 - accuracy: 0.6212 - val_loss: 1.0618 - val_accuracy: 0.6471\n",
      "Epoch 4/50\n",
      "1/3 [=========>....................] - ETA: 0s - loss: 1.3552 - accuracy: 0.7812\n",
      "Epoch 4: saving model to saved_model_no_tubelet\n"
     ]
    },
    {
     "name": "stderr",
     "output_type": "stream",
     "text": [
      "WARNING:absl:Found untraced functions such as embedding_1_layer_call_fn, embedding_1_layer_call_and_return_conditional_losses, multi_head_attention_1_layer_call_fn, multi_head_attention_1_layer_call_and_return_conditional_losses, layer_normalization_2_layer_call_fn while saving (showing 5 of 20). These functions will not be directly callable after loading.\n"
     ]
    },
    {
     "name": "stdout",
     "output_type": "stream",
     "text": [
      "INFO:tensorflow:Assets written to: saved_model_no_tubelet/assets\n"
     ]
    },
    {
     "name": "stderr",
     "output_type": "stream",
     "text": [
      "INFO:tensorflow:Assets written to: saved_model_no_tubelet/assets\n",
      "WARNING:py.warnings:/home/akash/anaconda3/envs/vision/lib/python3.9/site-packages/keras/engine/functional.py:1410: CustomMaskWarning: Custom mask layers require a config and must override get_config. When loading, the custom mask layer must be passed to the custom_objects argument.\n",
      "  layer_config = serialize_layer_fn(layer)\n",
      "\n",
      "WARNING:py.warnings:/home/akash/anaconda3/envs/vision/lib/python3.9/site-packages/keras/saving/saved_model/layer_serialization.py:112: CustomMaskWarning: Custom mask layers require a config and must override get_config. When loading, the custom mask layer must be passed to the custom_objects argument.\n",
      "  return generic_utils.serialize_keras_object(obj)\n",
      "\n"
     ]
    },
    {
     "name": "stdout",
     "output_type": "stream",
     "text": [
      "3/3 [==============================] - 5s 3s/step - loss: 1.4087 - accuracy: 0.8030 - val_loss: 2.7276 - val_accuracy: 0.1765\n",
      "Epoch 5/50\n",
      "1/3 [=========>....................] - ETA: 0s - loss: 1.5278 - accuracy: 0.6875\n",
      "Epoch 5: saving model to saved_model_no_tubelet\n"
     ]
    },
    {
     "name": "stderr",
     "output_type": "stream",
     "text": [
      "WARNING:absl:Found untraced functions such as embedding_1_layer_call_fn, embedding_1_layer_call_and_return_conditional_losses, multi_head_attention_1_layer_call_fn, multi_head_attention_1_layer_call_and_return_conditional_losses, layer_normalization_2_layer_call_fn while saving (showing 5 of 20). These functions will not be directly callable after loading.\n"
     ]
    },
    {
     "name": "stdout",
     "output_type": "stream",
     "text": [
      "INFO:tensorflow:Assets written to: saved_model_no_tubelet/assets\n"
     ]
    },
    {
     "name": "stderr",
     "output_type": "stream",
     "text": [
      "INFO:tensorflow:Assets written to: saved_model_no_tubelet/assets\n",
      "WARNING:py.warnings:/home/akash/anaconda3/envs/vision/lib/python3.9/site-packages/keras/engine/functional.py:1410: CustomMaskWarning: Custom mask layers require a config and must override get_config. When loading, the custom mask layer must be passed to the custom_objects argument.\n",
      "  layer_config = serialize_layer_fn(layer)\n",
      "\n",
      "WARNING:py.warnings:/home/akash/anaconda3/envs/vision/lib/python3.9/site-packages/keras/saving/saved_model/layer_serialization.py:112: CustomMaskWarning: Custom mask layers require a config and must override get_config. When loading, the custom mask layer must be passed to the custom_objects argument.\n",
      "  return generic_utils.serialize_keras_object(obj)\n",
      "\n"
     ]
    },
    {
     "name": "stdout",
     "output_type": "stream",
     "text": [
      "3/3 [==============================] - 4s 2s/step - loss: 1.5818 - accuracy: 0.6515 - val_loss: 2.8637 - val_accuracy: 0.1765\n",
      "Epoch 6/50\n",
      "1/3 [=========>....................] - ETA: 0s - loss: 0.9467 - accuracy: 0.6250\n",
      "Epoch 6: saving model to saved_model_no_tubelet\n"
     ]
    },
    {
     "name": "stderr",
     "output_type": "stream",
     "text": [
      "WARNING:absl:Found untraced functions such as embedding_1_layer_call_fn, embedding_1_layer_call_and_return_conditional_losses, multi_head_attention_1_layer_call_fn, multi_head_attention_1_layer_call_and_return_conditional_losses, layer_normalization_2_layer_call_fn while saving (showing 5 of 20). These functions will not be directly callable after loading.\n"
     ]
    },
    {
     "name": "stdout",
     "output_type": "stream",
     "text": [
      "INFO:tensorflow:Assets written to: saved_model_no_tubelet/assets\n"
     ]
    },
    {
     "name": "stderr",
     "output_type": "stream",
     "text": [
      "INFO:tensorflow:Assets written to: saved_model_no_tubelet/assets\n",
      "WARNING:py.warnings:/home/akash/anaconda3/envs/vision/lib/python3.9/site-packages/keras/engine/functional.py:1410: CustomMaskWarning: Custom mask layers require a config and must override get_config. When loading, the custom mask layer must be passed to the custom_objects argument.\n",
      "  layer_config = serialize_layer_fn(layer)\n",
      "\n",
      "WARNING:py.warnings:/home/akash/anaconda3/envs/vision/lib/python3.9/site-packages/keras/saving/saved_model/layer_serialization.py:112: CustomMaskWarning: Custom mask layers require a config and must override get_config. When loading, the custom mask layer must be passed to the custom_objects argument.\n",
      "  return generic_utils.serialize_keras_object(obj)\n",
      "\n"
     ]
    },
    {
     "name": "stdout",
     "output_type": "stream",
     "text": [
      "3/3 [==============================] - 5s 2s/step - loss: 0.9215 - accuracy: 0.6970 - val_loss: 4.3486 - val_accuracy: 0.1176\n",
      "Epoch 7/50\n",
      "1/3 [=========>....................] - ETA: 0s - loss: 1.6332 - accuracy: 0.5625\n",
      "Epoch 7: saving model to saved_model_no_tubelet\n"
     ]
    },
    {
     "name": "stderr",
     "output_type": "stream",
     "text": [
      "WARNING:absl:Found untraced functions such as embedding_1_layer_call_fn, embedding_1_layer_call_and_return_conditional_losses, multi_head_attention_1_layer_call_fn, multi_head_attention_1_layer_call_and_return_conditional_losses, layer_normalization_2_layer_call_fn while saving (showing 5 of 20). These functions will not be directly callable after loading.\n"
     ]
    },
    {
     "name": "stdout",
     "output_type": "stream",
     "text": [
      "INFO:tensorflow:Assets written to: saved_model_no_tubelet/assets\n"
     ]
    },
    {
     "name": "stderr",
     "output_type": "stream",
     "text": [
      "INFO:tensorflow:Assets written to: saved_model_no_tubelet/assets\n",
      "WARNING:py.warnings:/home/akash/anaconda3/envs/vision/lib/python3.9/site-packages/keras/engine/functional.py:1410: CustomMaskWarning: Custom mask layers require a config and must override get_config. When loading, the custom mask layer must be passed to the custom_objects argument.\n",
      "  layer_config = serialize_layer_fn(layer)\n",
      "\n",
      "WARNING:py.warnings:/home/akash/anaconda3/envs/vision/lib/python3.9/site-packages/keras/saving/saved_model/layer_serialization.py:112: CustomMaskWarning: Custom mask layers require a config and must override get_config. When loading, the custom mask layer must be passed to the custom_objects argument.\n",
      "  return generic_utils.serialize_keras_object(obj)\n",
      "\n"
     ]
    },
    {
     "name": "stdout",
     "output_type": "stream",
     "text": [
      "3/3 [==============================] - 4s 2s/step - loss: 1.3034 - accuracy: 0.6364 - val_loss: 4.4639 - val_accuracy: 0.1176\n",
      "Epoch 8/50\n",
      "1/3 [=========>....................] - ETA: 0s - loss: 1.3035 - accuracy: 0.6250\n",
      "Epoch 8: saving model to saved_model_no_tubelet\n"
     ]
    },
    {
     "name": "stderr",
     "output_type": "stream",
     "text": [
      "WARNING:absl:Found untraced functions such as embedding_1_layer_call_fn, embedding_1_layer_call_and_return_conditional_losses, multi_head_attention_1_layer_call_fn, multi_head_attention_1_layer_call_and_return_conditional_losses, layer_normalization_2_layer_call_fn while saving (showing 5 of 20). These functions will not be directly callable after loading.\n"
     ]
    },
    {
     "name": "stdout",
     "output_type": "stream",
     "text": [
      "INFO:tensorflow:Assets written to: saved_model_no_tubelet/assets\n"
     ]
    },
    {
     "name": "stderr",
     "output_type": "stream",
     "text": [
      "INFO:tensorflow:Assets written to: saved_model_no_tubelet/assets\n",
      "WARNING:py.warnings:/home/akash/anaconda3/envs/vision/lib/python3.9/site-packages/keras/engine/functional.py:1410: CustomMaskWarning: Custom mask layers require a config and must override get_config. When loading, the custom mask layer must be passed to the custom_objects argument.\n",
      "  layer_config = serialize_layer_fn(layer)\n",
      "\n",
      "WARNING:py.warnings:/home/akash/anaconda3/envs/vision/lib/python3.9/site-packages/keras/saving/saved_model/layer_serialization.py:112: CustomMaskWarning: Custom mask layers require a config and must override get_config. When loading, the custom mask layer must be passed to the custom_objects argument.\n",
      "  return generic_utils.serialize_keras_object(obj)\n",
      "\n"
     ]
    },
    {
     "name": "stdout",
     "output_type": "stream",
     "text": [
      "3/3 [==============================] - 4s 2s/step - loss: 1.1664 - accuracy: 0.6818 - val_loss: 2.2953 - val_accuracy: 0.1176\n",
      "Epoch 9/50\n",
      "1/3 [=========>....................] - ETA: 0s - loss: 1.1940 - accuracy: 0.7188\n",
      "Epoch 9: saving model to saved_model_no_tubelet\n"
     ]
    },
    {
     "name": "stderr",
     "output_type": "stream",
     "text": [
      "WARNING:absl:Found untraced functions such as embedding_1_layer_call_fn, embedding_1_layer_call_and_return_conditional_losses, multi_head_attention_1_layer_call_fn, multi_head_attention_1_layer_call_and_return_conditional_losses, layer_normalization_2_layer_call_fn while saving (showing 5 of 20). These functions will not be directly callable after loading.\n"
     ]
    },
    {
     "name": "stdout",
     "output_type": "stream",
     "text": [
      "INFO:tensorflow:Assets written to: saved_model_no_tubelet/assets\n"
     ]
    },
    {
     "name": "stderr",
     "output_type": "stream",
     "text": [
      "INFO:tensorflow:Assets written to: saved_model_no_tubelet/assets\n",
      "WARNING:py.warnings:/home/akash/anaconda3/envs/vision/lib/python3.9/site-packages/keras/engine/functional.py:1410: CustomMaskWarning: Custom mask layers require a config and must override get_config. When loading, the custom mask layer must be passed to the custom_objects argument.\n",
      "  layer_config = serialize_layer_fn(layer)\n",
      "\n",
      "WARNING:py.warnings:/home/akash/anaconda3/envs/vision/lib/python3.9/site-packages/keras/saving/saved_model/layer_serialization.py:112: CustomMaskWarning: Custom mask layers require a config and must override get_config. When loading, the custom mask layer must be passed to the custom_objects argument.\n",
      "  return generic_utils.serialize_keras_object(obj)\n",
      "\n"
     ]
    },
    {
     "name": "stdout",
     "output_type": "stream",
     "text": [
      "3/3 [==============================] - 6s 3s/step - loss: 1.1912 - accuracy: 0.7121 - val_loss: 0.7715 - val_accuracy: 0.7059\n",
      "Epoch 10/50\n",
      "1/3 [=========>....................] - ETA: 0s - loss: 0.6937 - accuracy: 0.7812\n",
      "Epoch 10: saving model to saved_model_no_tubelet\n"
     ]
    },
    {
     "name": "stderr",
     "output_type": "stream",
     "text": [
      "WARNING:absl:Found untraced functions such as embedding_1_layer_call_fn, embedding_1_layer_call_and_return_conditional_losses, multi_head_attention_1_layer_call_fn, multi_head_attention_1_layer_call_and_return_conditional_losses, layer_normalization_2_layer_call_fn while saving (showing 5 of 20). These functions will not be directly callable after loading.\n"
     ]
    },
    {
     "name": "stdout",
     "output_type": "stream",
     "text": [
      "INFO:tensorflow:Assets written to: saved_model_no_tubelet/assets\n"
     ]
    },
    {
     "name": "stderr",
     "output_type": "stream",
     "text": [
      "INFO:tensorflow:Assets written to: saved_model_no_tubelet/assets\n",
      "WARNING:py.warnings:/home/akash/anaconda3/envs/vision/lib/python3.9/site-packages/keras/engine/functional.py:1410: CustomMaskWarning: Custom mask layers require a config and must override get_config. When loading, the custom mask layer must be passed to the custom_objects argument.\n",
      "  layer_config = serialize_layer_fn(layer)\n",
      "\n",
      "WARNING:py.warnings:/home/akash/anaconda3/envs/vision/lib/python3.9/site-packages/keras/saving/saved_model/layer_serialization.py:112: CustomMaskWarning: Custom mask layers require a config and must override get_config. When loading, the custom mask layer must be passed to the custom_objects argument.\n",
      "  return generic_utils.serialize_keras_object(obj)\n",
      "\n"
     ]
    },
    {
     "name": "stdout",
     "output_type": "stream",
     "text": [
      "3/3 [==============================] - 4s 2s/step - loss: 0.8045 - accuracy: 0.8030 - val_loss: 0.5511 - val_accuracy: 0.8235\n",
      "Epoch 11/50\n",
      "1/3 [=========>....................] - ETA: 0s - loss: 0.6116 - accuracy: 0.8125\n",
      "Epoch 11: saving model to saved_model_no_tubelet\n"
     ]
    },
    {
     "name": "stderr",
     "output_type": "stream",
     "text": [
      "WARNING:absl:Found untraced functions such as embedding_1_layer_call_fn, embedding_1_layer_call_and_return_conditional_losses, multi_head_attention_1_layer_call_fn, multi_head_attention_1_layer_call_and_return_conditional_losses, layer_normalization_2_layer_call_fn while saving (showing 5 of 20). These functions will not be directly callable after loading.\n"
     ]
    },
    {
     "name": "stdout",
     "output_type": "stream",
     "text": [
      "INFO:tensorflow:Assets written to: saved_model_no_tubelet/assets\n"
     ]
    },
    {
     "name": "stderr",
     "output_type": "stream",
     "text": [
      "INFO:tensorflow:Assets written to: saved_model_no_tubelet/assets\n",
      "WARNING:py.warnings:/home/akash/anaconda3/envs/vision/lib/python3.9/site-packages/keras/engine/functional.py:1410: CustomMaskWarning: Custom mask layers require a config and must override get_config. When loading, the custom mask layer must be passed to the custom_objects argument.\n",
      "  layer_config = serialize_layer_fn(layer)\n",
      "\n",
      "WARNING:py.warnings:/home/akash/anaconda3/envs/vision/lib/python3.9/site-packages/keras/saving/saved_model/layer_serialization.py:112: CustomMaskWarning: Custom mask layers require a config and must override get_config. When loading, the custom mask layer must be passed to the custom_objects argument.\n",
      "  return generic_utils.serialize_keras_object(obj)\n",
      "\n"
     ]
    },
    {
     "name": "stdout",
     "output_type": "stream",
     "text": [
      "3/3 [==============================] - 4s 2s/step - loss: 0.7377 - accuracy: 0.8030 - val_loss: 0.6582 - val_accuracy: 0.7647\n",
      "Epoch 12/50\n",
      "1/3 [=========>....................] - ETA: 0s - loss: 0.8090 - accuracy: 0.8438\n",
      "Epoch 12: saving model to saved_model_no_tubelet\n"
     ]
    },
    {
     "name": "stderr",
     "output_type": "stream",
     "text": [
      "WARNING:absl:Found untraced functions such as embedding_1_layer_call_fn, embedding_1_layer_call_and_return_conditional_losses, multi_head_attention_1_layer_call_fn, multi_head_attention_1_layer_call_and_return_conditional_losses, layer_normalization_2_layer_call_fn while saving (showing 5 of 20). These functions will not be directly callable after loading.\n"
     ]
    },
    {
     "name": "stdout",
     "output_type": "stream",
     "text": [
      "INFO:tensorflow:Assets written to: saved_model_no_tubelet/assets\n"
     ]
    },
    {
     "name": "stderr",
     "output_type": "stream",
     "text": [
      "INFO:tensorflow:Assets written to: saved_model_no_tubelet/assets\n",
      "WARNING:py.warnings:/home/akash/anaconda3/envs/vision/lib/python3.9/site-packages/keras/engine/functional.py:1410: CustomMaskWarning: Custom mask layers require a config and must override get_config. When loading, the custom mask layer must be passed to the custom_objects argument.\n",
      "  layer_config = serialize_layer_fn(layer)\n",
      "\n",
      "WARNING:py.warnings:/home/akash/anaconda3/envs/vision/lib/python3.9/site-packages/keras/saving/saved_model/layer_serialization.py:112: CustomMaskWarning: Custom mask layers require a config and must override get_config. When loading, the custom mask layer must be passed to the custom_objects argument.\n",
      "  return generic_utils.serialize_keras_object(obj)\n",
      "\n"
     ]
    },
    {
     "name": "stdout",
     "output_type": "stream",
     "text": [
      "3/3 [==============================] - 5s 2s/step - loss: 0.6594 - accuracy: 0.8030 - val_loss: 0.7073 - val_accuracy: 0.8235\n",
      "Epoch 13/50\n",
      "1/3 [=========>....................] - ETA: 0s - loss: 0.6024 - accuracy: 0.8438\n",
      "Epoch 13: saving model to saved_model_no_tubelet\n"
     ]
    },
    {
     "name": "stderr",
     "output_type": "stream",
     "text": [
      "WARNING:absl:Found untraced functions such as embedding_1_layer_call_fn, embedding_1_layer_call_and_return_conditional_losses, multi_head_attention_1_layer_call_fn, multi_head_attention_1_layer_call_and_return_conditional_losses, layer_normalization_2_layer_call_fn while saving (showing 5 of 20). These functions will not be directly callable after loading.\n"
     ]
    },
    {
     "name": "stdout",
     "output_type": "stream",
     "text": [
      "INFO:tensorflow:Assets written to: saved_model_no_tubelet/assets\n"
     ]
    },
    {
     "name": "stderr",
     "output_type": "stream",
     "text": [
      "INFO:tensorflow:Assets written to: saved_model_no_tubelet/assets\n",
      "WARNING:py.warnings:/home/akash/anaconda3/envs/vision/lib/python3.9/site-packages/keras/engine/functional.py:1410: CustomMaskWarning: Custom mask layers require a config and must override get_config. When loading, the custom mask layer must be passed to the custom_objects argument.\n",
      "  layer_config = serialize_layer_fn(layer)\n",
      "\n",
      "WARNING:py.warnings:/home/akash/anaconda3/envs/vision/lib/python3.9/site-packages/keras/saving/saved_model/layer_serialization.py:112: CustomMaskWarning: Custom mask layers require a config and must override get_config. When loading, the custom mask layer must be passed to the custom_objects argument.\n",
      "  return generic_utils.serialize_keras_object(obj)\n",
      "\n"
     ]
    },
    {
     "name": "stdout",
     "output_type": "stream",
     "text": [
      "3/3 [==============================] - 4s 2s/step - loss: 0.5952 - accuracy: 0.8333 - val_loss: 0.8394 - val_accuracy: 0.8235\n",
      "Epoch 14/50\n",
      "1/3 [=========>....................] - ETA: 0s - loss: 0.6140 - accuracy: 0.8125\n",
      "Epoch 14: saving model to saved_model_no_tubelet\n"
     ]
    },
    {
     "name": "stderr",
     "output_type": "stream",
     "text": [
      "WARNING:absl:Found untraced functions such as embedding_1_layer_call_fn, embedding_1_layer_call_and_return_conditional_losses, multi_head_attention_1_layer_call_fn, multi_head_attention_1_layer_call_and_return_conditional_losses, layer_normalization_2_layer_call_fn while saving (showing 5 of 20). These functions will not be directly callable after loading.\n"
     ]
    },
    {
     "name": "stdout",
     "output_type": "stream",
     "text": [
      "INFO:tensorflow:Assets written to: saved_model_no_tubelet/assets\n"
     ]
    },
    {
     "name": "stderr",
     "output_type": "stream",
     "text": [
      "INFO:tensorflow:Assets written to: saved_model_no_tubelet/assets\n",
      "WARNING:py.warnings:/home/akash/anaconda3/envs/vision/lib/python3.9/site-packages/keras/engine/functional.py:1410: CustomMaskWarning: Custom mask layers require a config and must override get_config. When loading, the custom mask layer must be passed to the custom_objects argument.\n",
      "  layer_config = serialize_layer_fn(layer)\n",
      "\n",
      "WARNING:py.warnings:/home/akash/anaconda3/envs/vision/lib/python3.9/site-packages/keras/saving/saved_model/layer_serialization.py:112: CustomMaskWarning: Custom mask layers require a config and must override get_config. When loading, the custom mask layer must be passed to the custom_objects argument.\n",
      "  return generic_utils.serialize_keras_object(obj)\n",
      "\n"
     ]
    },
    {
     "name": "stdout",
     "output_type": "stream",
     "text": [
      "3/3 [==============================] - 4s 2s/step - loss: 0.4971 - accuracy: 0.8030 - val_loss: 0.4885 - val_accuracy: 0.8235\n",
      "Epoch 15/50\n",
      "1/3 [=========>....................] - ETA: 0s - loss: 0.5334 - accuracy: 0.8125\n",
      "Epoch 15: saving model to saved_model_no_tubelet\n"
     ]
    },
    {
     "name": "stderr",
     "output_type": "stream",
     "text": [
      "WARNING:absl:Found untraced functions such as embedding_1_layer_call_fn, embedding_1_layer_call_and_return_conditional_losses, multi_head_attention_1_layer_call_fn, multi_head_attention_1_layer_call_and_return_conditional_losses, layer_normalization_2_layer_call_fn while saving (showing 5 of 20). These functions will not be directly callable after loading.\n"
     ]
    },
    {
     "name": "stdout",
     "output_type": "stream",
     "text": [
      "INFO:tensorflow:Assets written to: saved_model_no_tubelet/assets\n"
     ]
    },
    {
     "name": "stderr",
     "output_type": "stream",
     "text": [
      "INFO:tensorflow:Assets written to: saved_model_no_tubelet/assets\n",
      "WARNING:py.warnings:/home/akash/anaconda3/envs/vision/lib/python3.9/site-packages/keras/engine/functional.py:1410: CustomMaskWarning: Custom mask layers require a config and must override get_config. When loading, the custom mask layer must be passed to the custom_objects argument.\n",
      "  layer_config = serialize_layer_fn(layer)\n",
      "\n",
      "WARNING:py.warnings:/home/akash/anaconda3/envs/vision/lib/python3.9/site-packages/keras/saving/saved_model/layer_serialization.py:112: CustomMaskWarning: Custom mask layers require a config and must override get_config. When loading, the custom mask layer must be passed to the custom_objects argument.\n",
      "  return generic_utils.serialize_keras_object(obj)\n",
      "\n"
     ]
    },
    {
     "name": "stdout",
     "output_type": "stream",
     "text": [
      "3/3 [==============================] - 5s 2s/step - loss: 0.5316 - accuracy: 0.8636 - val_loss: 0.2436 - val_accuracy: 0.9412\n",
      "Epoch 16/50\n",
      "1/3 [=========>....................] - ETA: 0s - loss: 0.7754 - accuracy: 0.7500\n",
      "Epoch 16: saving model to saved_model_no_tubelet\n"
     ]
    },
    {
     "name": "stderr",
     "output_type": "stream",
     "text": [
      "WARNING:absl:Found untraced functions such as embedding_1_layer_call_fn, embedding_1_layer_call_and_return_conditional_losses, multi_head_attention_1_layer_call_fn, multi_head_attention_1_layer_call_and_return_conditional_losses, layer_normalization_2_layer_call_fn while saving (showing 5 of 20). These functions will not be directly callable after loading.\n"
     ]
    },
    {
     "name": "stdout",
     "output_type": "stream",
     "text": [
      "INFO:tensorflow:Assets written to: saved_model_no_tubelet/assets\n"
     ]
    },
    {
     "name": "stderr",
     "output_type": "stream",
     "text": [
      "INFO:tensorflow:Assets written to: saved_model_no_tubelet/assets\n",
      "WARNING:py.warnings:/home/akash/anaconda3/envs/vision/lib/python3.9/site-packages/keras/engine/functional.py:1410: CustomMaskWarning: Custom mask layers require a config and must override get_config. When loading, the custom mask layer must be passed to the custom_objects argument.\n",
      "  layer_config = serialize_layer_fn(layer)\n",
      "\n",
      "WARNING:py.warnings:/home/akash/anaconda3/envs/vision/lib/python3.9/site-packages/keras/saving/saved_model/layer_serialization.py:112: CustomMaskWarning: Custom mask layers require a config and must override get_config. When loading, the custom mask layer must be passed to the custom_objects argument.\n",
      "  return generic_utils.serialize_keras_object(obj)\n",
      "\n"
     ]
    },
    {
     "name": "stdout",
     "output_type": "stream",
     "text": [
      "3/3 [==============================] - 4s 2s/step - loss: 0.3954 - accuracy: 0.8788 - val_loss: 0.1540 - val_accuracy: 0.9412\n",
      "Epoch 17/50\n",
      "1/3 [=========>....................] - ETA: 0s - loss: 0.3341 - accuracy: 0.9375\n",
      "Epoch 17: saving model to saved_model_no_tubelet\n"
     ]
    },
    {
     "name": "stderr",
     "output_type": "stream",
     "text": [
      "WARNING:absl:Found untraced functions such as embedding_1_layer_call_fn, embedding_1_layer_call_and_return_conditional_losses, multi_head_attention_1_layer_call_fn, multi_head_attention_1_layer_call_and_return_conditional_losses, layer_normalization_2_layer_call_fn while saving (showing 5 of 20). These functions will not be directly callable after loading.\n"
     ]
    },
    {
     "name": "stdout",
     "output_type": "stream",
     "text": [
      "INFO:tensorflow:Assets written to: saved_model_no_tubelet/assets\n"
     ]
    },
    {
     "name": "stderr",
     "output_type": "stream",
     "text": [
      "INFO:tensorflow:Assets written to: saved_model_no_tubelet/assets\n",
      "WARNING:py.warnings:/home/akash/anaconda3/envs/vision/lib/python3.9/site-packages/keras/engine/functional.py:1410: CustomMaskWarning: Custom mask layers require a config and must override get_config. When loading, the custom mask layer must be passed to the custom_objects argument.\n",
      "  layer_config = serialize_layer_fn(layer)\n",
      "\n",
      "WARNING:py.warnings:/home/akash/anaconda3/envs/vision/lib/python3.9/site-packages/keras/saving/saved_model/layer_serialization.py:112: CustomMaskWarning: Custom mask layers require a config and must override get_config. When loading, the custom mask layer must be passed to the custom_objects argument.\n",
      "  return generic_utils.serialize_keras_object(obj)\n",
      "\n"
     ]
    },
    {
     "name": "stdout",
     "output_type": "stream",
     "text": [
      "3/3 [==============================] - 4s 2s/step - loss: 0.3120 - accuracy: 0.9091 - val_loss: 0.1041 - val_accuracy: 1.0000\n",
      "Epoch 18/50\n",
      "1/3 [=========>....................] - ETA: 0s - loss: 0.4314 - accuracy: 0.8750\n",
      "Epoch 18: saving model to saved_model_no_tubelet\n"
     ]
    },
    {
     "name": "stderr",
     "output_type": "stream",
     "text": [
      "WARNING:absl:Found untraced functions such as embedding_1_layer_call_fn, embedding_1_layer_call_and_return_conditional_losses, multi_head_attention_1_layer_call_fn, multi_head_attention_1_layer_call_and_return_conditional_losses, layer_normalization_2_layer_call_fn while saving (showing 5 of 20). These functions will not be directly callable after loading.\n"
     ]
    },
    {
     "name": "stdout",
     "output_type": "stream",
     "text": [
      "INFO:tensorflow:Assets written to: saved_model_no_tubelet/assets\n"
     ]
    },
    {
     "name": "stderr",
     "output_type": "stream",
     "text": [
      "INFO:tensorflow:Assets written to: saved_model_no_tubelet/assets\n",
      "WARNING:py.warnings:/home/akash/anaconda3/envs/vision/lib/python3.9/site-packages/keras/engine/functional.py:1410: CustomMaskWarning: Custom mask layers require a config and must override get_config. When loading, the custom mask layer must be passed to the custom_objects argument.\n",
      "  layer_config = serialize_layer_fn(layer)\n",
      "\n",
      "WARNING:py.warnings:/home/akash/anaconda3/envs/vision/lib/python3.9/site-packages/keras/saving/saved_model/layer_serialization.py:112: CustomMaskWarning: Custom mask layers require a config and must override get_config. When loading, the custom mask layer must be passed to the custom_objects argument.\n",
      "  return generic_utils.serialize_keras_object(obj)\n",
      "\n"
     ]
    },
    {
     "name": "stdout",
     "output_type": "stream",
     "text": [
      "3/3 [==============================] - 5s 2s/step - loss: 0.3207 - accuracy: 0.8788 - val_loss: 0.2616 - val_accuracy: 0.8824\n",
      "Epoch 19/50\n",
      "1/3 [=========>....................] - ETA: 0s - loss: 0.2159 - accuracy: 0.9688\n",
      "Epoch 19: saving model to saved_model_no_tubelet\n"
     ]
    },
    {
     "name": "stderr",
     "output_type": "stream",
     "text": [
      "WARNING:absl:Found untraced functions such as embedding_1_layer_call_fn, embedding_1_layer_call_and_return_conditional_losses, multi_head_attention_1_layer_call_fn, multi_head_attention_1_layer_call_and_return_conditional_losses, layer_normalization_2_layer_call_fn while saving (showing 5 of 20). These functions will not be directly callable after loading.\n"
     ]
    },
    {
     "name": "stdout",
     "output_type": "stream",
     "text": [
      "INFO:tensorflow:Assets written to: saved_model_no_tubelet/assets\n"
     ]
    },
    {
     "name": "stderr",
     "output_type": "stream",
     "text": [
      "INFO:tensorflow:Assets written to: saved_model_no_tubelet/assets\n",
      "WARNING:py.warnings:/home/akash/anaconda3/envs/vision/lib/python3.9/site-packages/keras/engine/functional.py:1410: CustomMaskWarning: Custom mask layers require a config and must override get_config. When loading, the custom mask layer must be passed to the custom_objects argument.\n",
      "  layer_config = serialize_layer_fn(layer)\n",
      "\n",
      "WARNING:py.warnings:/home/akash/anaconda3/envs/vision/lib/python3.9/site-packages/keras/saving/saved_model/layer_serialization.py:112: CustomMaskWarning: Custom mask layers require a config and must override get_config. When loading, the custom mask layer must be passed to the custom_objects argument.\n",
      "  return generic_utils.serialize_keras_object(obj)\n",
      "\n"
     ]
    },
    {
     "name": "stdout",
     "output_type": "stream",
     "text": [
      "3/3 [==============================] - 4s 2s/step - loss: 0.2262 - accuracy: 0.9545 - val_loss: 0.4651 - val_accuracy: 0.8824\n",
      "Epoch 20/50\n",
      "1/3 [=========>....................] - ETA: 0s - loss: 0.0477 - accuracy: 1.0000\n",
      "Epoch 20: saving model to saved_model_no_tubelet\n"
     ]
    },
    {
     "name": "stderr",
     "output_type": "stream",
     "text": [
      "WARNING:absl:Found untraced functions such as embedding_1_layer_call_fn, embedding_1_layer_call_and_return_conditional_losses, multi_head_attention_1_layer_call_fn, multi_head_attention_1_layer_call_and_return_conditional_losses, layer_normalization_2_layer_call_fn while saving (showing 5 of 20). These functions will not be directly callable after loading.\n"
     ]
    },
    {
     "name": "stdout",
     "output_type": "stream",
     "text": [
      "INFO:tensorflow:Assets written to: saved_model_no_tubelet/assets\n"
     ]
    },
    {
     "name": "stderr",
     "output_type": "stream",
     "text": [
      "INFO:tensorflow:Assets written to: saved_model_no_tubelet/assets\n",
      "WARNING:py.warnings:/home/akash/anaconda3/envs/vision/lib/python3.9/site-packages/keras/engine/functional.py:1410: CustomMaskWarning: Custom mask layers require a config and must override get_config. When loading, the custom mask layer must be passed to the custom_objects argument.\n",
      "  layer_config = serialize_layer_fn(layer)\n",
      "\n",
      "WARNING:py.warnings:/home/akash/anaconda3/envs/vision/lib/python3.9/site-packages/keras/saving/saved_model/layer_serialization.py:112: CustomMaskWarning: Custom mask layers require a config and must override get_config. When loading, the custom mask layer must be passed to the custom_objects argument.\n",
      "  return generic_utils.serialize_keras_object(obj)\n",
      "\n"
     ]
    },
    {
     "name": "stdout",
     "output_type": "stream",
     "text": [
      "3/3 [==============================] - 4s 2s/step - loss: 0.0942 - accuracy: 0.9545 - val_loss: 0.5052 - val_accuracy: 0.8824\n",
      "Epoch 21/50\n",
      "1/3 [=========>....................] - ETA: 0s - loss: 0.2136 - accuracy: 0.9062\n",
      "Epoch 21: saving model to saved_model_no_tubelet\n"
     ]
    },
    {
     "name": "stderr",
     "output_type": "stream",
     "text": [
      "WARNING:absl:Found untraced functions such as embedding_1_layer_call_fn, embedding_1_layer_call_and_return_conditional_losses, multi_head_attention_1_layer_call_fn, multi_head_attention_1_layer_call_and_return_conditional_losses, layer_normalization_2_layer_call_fn while saving (showing 5 of 20). These functions will not be directly callable after loading.\n"
     ]
    },
    {
     "name": "stdout",
     "output_type": "stream",
     "text": [
      "INFO:tensorflow:Assets written to: saved_model_no_tubelet/assets\n"
     ]
    },
    {
     "name": "stderr",
     "output_type": "stream",
     "text": [
      "INFO:tensorflow:Assets written to: saved_model_no_tubelet/assets\n",
      "WARNING:py.warnings:/home/akash/anaconda3/envs/vision/lib/python3.9/site-packages/keras/engine/functional.py:1410: CustomMaskWarning: Custom mask layers require a config and must override get_config. When loading, the custom mask layer must be passed to the custom_objects argument.\n",
      "  layer_config = serialize_layer_fn(layer)\n",
      "\n",
      "WARNING:py.warnings:/home/akash/anaconda3/envs/vision/lib/python3.9/site-packages/keras/saving/saved_model/layer_serialization.py:112: CustomMaskWarning: Custom mask layers require a config and must override get_config. When loading, the custom mask layer must be passed to the custom_objects argument.\n",
      "  return generic_utils.serialize_keras_object(obj)\n",
      "\n"
     ]
    },
    {
     "name": "stdout",
     "output_type": "stream",
     "text": [
      "3/3 [==============================] - 5s 2s/step - loss: 0.1454 - accuracy: 0.9394 - val_loss: 0.3899 - val_accuracy: 0.9412\n",
      "Epoch 22/50\n",
      "1/3 [=========>....................] - ETA: 0s - loss: 0.0198 - accuracy: 1.0000\n",
      "Epoch 22: saving model to saved_model_no_tubelet\n"
     ]
    },
    {
     "name": "stderr",
     "output_type": "stream",
     "text": [
      "WARNING:absl:Found untraced functions such as embedding_1_layer_call_fn, embedding_1_layer_call_and_return_conditional_losses, multi_head_attention_1_layer_call_fn, multi_head_attention_1_layer_call_and_return_conditional_losses, layer_normalization_2_layer_call_fn while saving (showing 5 of 20). These functions will not be directly callable after loading.\n"
     ]
    },
    {
     "name": "stdout",
     "output_type": "stream",
     "text": [
      "INFO:tensorflow:Assets written to: saved_model_no_tubelet/assets\n"
     ]
    },
    {
     "name": "stderr",
     "output_type": "stream",
     "text": [
      "INFO:tensorflow:Assets written to: saved_model_no_tubelet/assets\n",
      "WARNING:py.warnings:/home/akash/anaconda3/envs/vision/lib/python3.9/site-packages/keras/engine/functional.py:1410: CustomMaskWarning: Custom mask layers require a config and must override get_config. When loading, the custom mask layer must be passed to the custom_objects argument.\n",
      "  layer_config = serialize_layer_fn(layer)\n",
      "\n",
      "WARNING:py.warnings:/home/akash/anaconda3/envs/vision/lib/python3.9/site-packages/keras/saving/saved_model/layer_serialization.py:112: CustomMaskWarning: Custom mask layers require a config and must override get_config. When loading, the custom mask layer must be passed to the custom_objects argument.\n",
      "  return generic_utils.serialize_keras_object(obj)\n",
      "\n"
     ]
    },
    {
     "name": "stdout",
     "output_type": "stream",
     "text": [
      "3/3 [==============================] - 4s 2s/step - loss: 0.0267 - accuracy: 1.0000 - val_loss: 0.3861 - val_accuracy: 0.9412\n",
      "Epoch 23/50\n",
      "1/3 [=========>....................] - ETA: 0s - loss: 0.2373 - accuracy: 0.9688\n",
      "Epoch 23: saving model to saved_model_no_tubelet\n"
     ]
    },
    {
     "name": "stderr",
     "output_type": "stream",
     "text": [
      "WARNING:absl:Found untraced functions such as embedding_1_layer_call_fn, embedding_1_layer_call_and_return_conditional_losses, multi_head_attention_1_layer_call_fn, multi_head_attention_1_layer_call_and_return_conditional_losses, layer_normalization_2_layer_call_fn while saving (showing 5 of 20). These functions will not be directly callable after loading.\n"
     ]
    },
    {
     "name": "stdout",
     "output_type": "stream",
     "text": [
      "INFO:tensorflow:Assets written to: saved_model_no_tubelet/assets\n"
     ]
    },
    {
     "name": "stderr",
     "output_type": "stream",
     "text": [
      "INFO:tensorflow:Assets written to: saved_model_no_tubelet/assets\n",
      "WARNING:py.warnings:/home/akash/anaconda3/envs/vision/lib/python3.9/site-packages/keras/engine/functional.py:1410: CustomMaskWarning: Custom mask layers require a config and must override get_config. When loading, the custom mask layer must be passed to the custom_objects argument.\n",
      "  layer_config = serialize_layer_fn(layer)\n",
      "\n",
      "WARNING:py.warnings:/home/akash/anaconda3/envs/vision/lib/python3.9/site-packages/keras/saving/saved_model/layer_serialization.py:112: CustomMaskWarning: Custom mask layers require a config and must override get_config. When loading, the custom mask layer must be passed to the custom_objects argument.\n",
      "  return generic_utils.serialize_keras_object(obj)\n",
      "\n"
     ]
    },
    {
     "name": "stdout",
     "output_type": "stream",
     "text": [
      "3/3 [==============================] - 4s 2s/step - loss: 0.1237 - accuracy: 0.9848 - val_loss: 0.3675 - val_accuracy: 0.9412\n",
      "Epoch 24/50\n",
      "1/3 [=========>....................] - ETA: 0s - loss: 0.0498 - accuracy: 0.9688\n",
      "Epoch 24: saving model to saved_model_no_tubelet\n"
     ]
    },
    {
     "name": "stderr",
     "output_type": "stream",
     "text": [
      "WARNING:absl:Found untraced functions such as embedding_1_layer_call_fn, embedding_1_layer_call_and_return_conditional_losses, multi_head_attention_1_layer_call_fn, multi_head_attention_1_layer_call_and_return_conditional_losses, layer_normalization_2_layer_call_fn while saving (showing 5 of 20). These functions will not be directly callable after loading.\n"
     ]
    },
    {
     "name": "stdout",
     "output_type": "stream",
     "text": [
      "INFO:tensorflow:Assets written to: saved_model_no_tubelet/assets\n"
     ]
    },
    {
     "name": "stderr",
     "output_type": "stream",
     "text": [
      "INFO:tensorflow:Assets written to: saved_model_no_tubelet/assets\n",
      "WARNING:py.warnings:/home/akash/anaconda3/envs/vision/lib/python3.9/site-packages/keras/engine/functional.py:1410: CustomMaskWarning: Custom mask layers require a config and must override get_config. When loading, the custom mask layer must be passed to the custom_objects argument.\n",
      "  layer_config = serialize_layer_fn(layer)\n",
      "\n",
      "WARNING:py.warnings:/home/akash/anaconda3/envs/vision/lib/python3.9/site-packages/keras/saving/saved_model/layer_serialization.py:112: CustomMaskWarning: Custom mask layers require a config and must override get_config. When loading, the custom mask layer must be passed to the custom_objects argument.\n",
      "  return generic_utils.serialize_keras_object(obj)\n",
      "\n"
     ]
    },
    {
     "name": "stdout",
     "output_type": "stream",
     "text": [
      "3/3 [==============================] - 5s 2s/step - loss: 0.0581 - accuracy: 0.9697 - val_loss: 0.3455 - val_accuracy: 0.9412\n",
      "Epoch 25/50\n",
      "1/3 [=========>....................] - ETA: 0s - loss: 0.0229 - accuracy: 1.0000\n",
      "Epoch 25: saving model to saved_model_no_tubelet\n"
     ]
    },
    {
     "name": "stderr",
     "output_type": "stream",
     "text": [
      "WARNING:absl:Found untraced functions such as embedding_1_layer_call_fn, embedding_1_layer_call_and_return_conditional_losses, multi_head_attention_1_layer_call_fn, multi_head_attention_1_layer_call_and_return_conditional_losses, layer_normalization_2_layer_call_fn while saving (showing 5 of 20). These functions will not be directly callable after loading.\n"
     ]
    },
    {
     "name": "stdout",
     "output_type": "stream",
     "text": [
      "INFO:tensorflow:Assets written to: saved_model_no_tubelet/assets\n"
     ]
    },
    {
     "name": "stderr",
     "output_type": "stream",
     "text": [
      "INFO:tensorflow:Assets written to: saved_model_no_tubelet/assets\n",
      "WARNING:py.warnings:/home/akash/anaconda3/envs/vision/lib/python3.9/site-packages/keras/engine/functional.py:1410: CustomMaskWarning: Custom mask layers require a config and must override get_config. When loading, the custom mask layer must be passed to the custom_objects argument.\n",
      "  layer_config = serialize_layer_fn(layer)\n",
      "\n",
      "WARNING:py.warnings:/home/akash/anaconda3/envs/vision/lib/python3.9/site-packages/keras/saving/saved_model/layer_serialization.py:112: CustomMaskWarning: Custom mask layers require a config and must override get_config. When loading, the custom mask layer must be passed to the custom_objects argument.\n",
      "  return generic_utils.serialize_keras_object(obj)\n",
      "\n"
     ]
    },
    {
     "name": "stdout",
     "output_type": "stream",
     "text": [
      "3/3 [==============================] - 4s 2s/step - loss: 0.0968 - accuracy: 0.9697 - val_loss: 0.3807 - val_accuracy: 0.9412\n",
      "Epoch 26/50\n",
      "1/3 [=========>....................] - ETA: 0s - loss: 0.0099 - accuracy: 1.0000\n",
      "Epoch 26: saving model to saved_model_no_tubelet\n"
     ]
    },
    {
     "name": "stderr",
     "output_type": "stream",
     "text": [
      "WARNING:absl:Found untraced functions such as embedding_1_layer_call_fn, embedding_1_layer_call_and_return_conditional_losses, multi_head_attention_1_layer_call_fn, multi_head_attention_1_layer_call_and_return_conditional_losses, layer_normalization_2_layer_call_fn while saving (showing 5 of 20). These functions will not be directly callable after loading.\n"
     ]
    },
    {
     "name": "stdout",
     "output_type": "stream",
     "text": [
      "INFO:tensorflow:Assets written to: saved_model_no_tubelet/assets\n"
     ]
    },
    {
     "name": "stderr",
     "output_type": "stream",
     "text": [
      "INFO:tensorflow:Assets written to: saved_model_no_tubelet/assets\n",
      "WARNING:py.warnings:/home/akash/anaconda3/envs/vision/lib/python3.9/site-packages/keras/engine/functional.py:1410: CustomMaskWarning: Custom mask layers require a config and must override get_config. When loading, the custom mask layer must be passed to the custom_objects argument.\n",
      "  layer_config = serialize_layer_fn(layer)\n",
      "\n",
      "WARNING:py.warnings:/home/akash/anaconda3/envs/vision/lib/python3.9/site-packages/keras/saving/saved_model/layer_serialization.py:112: CustomMaskWarning: Custom mask layers require a config and must override get_config. When loading, the custom mask layer must be passed to the custom_objects argument.\n",
      "  return generic_utils.serialize_keras_object(obj)\n",
      "\n"
     ]
    },
    {
     "name": "stdout",
     "output_type": "stream",
     "text": [
      "3/3 [==============================] - 4s 2s/step - loss: 0.0138 - accuracy: 1.0000 - val_loss: 0.4508 - val_accuracy: 0.9412\n",
      "Epoch 27/50\n",
      "1/3 [=========>....................] - ETA: 0s - loss: 0.0225 - accuracy: 1.0000\n",
      "Epoch 27: saving model to saved_model_no_tubelet\n"
     ]
    },
    {
     "name": "stderr",
     "output_type": "stream",
     "text": [
      "WARNING:absl:Found untraced functions such as embedding_1_layer_call_fn, embedding_1_layer_call_and_return_conditional_losses, multi_head_attention_1_layer_call_fn, multi_head_attention_1_layer_call_and_return_conditional_losses, layer_normalization_2_layer_call_fn while saving (showing 5 of 20). These functions will not be directly callable after loading.\n"
     ]
    },
    {
     "name": "stdout",
     "output_type": "stream",
     "text": [
      "INFO:tensorflow:Assets written to: saved_model_no_tubelet/assets\n"
     ]
    },
    {
     "name": "stderr",
     "output_type": "stream",
     "text": [
      "INFO:tensorflow:Assets written to: saved_model_no_tubelet/assets\n",
      "WARNING:py.warnings:/home/akash/anaconda3/envs/vision/lib/python3.9/site-packages/keras/engine/functional.py:1410: CustomMaskWarning: Custom mask layers require a config and must override get_config. When loading, the custom mask layer must be passed to the custom_objects argument.\n",
      "  layer_config = serialize_layer_fn(layer)\n",
      "\n",
      "WARNING:py.warnings:/home/akash/anaconda3/envs/vision/lib/python3.9/site-packages/keras/saving/saved_model/layer_serialization.py:112: CustomMaskWarning: Custom mask layers require a config and must override get_config. When loading, the custom mask layer must be passed to the custom_objects argument.\n",
      "  return generic_utils.serialize_keras_object(obj)\n",
      "\n"
     ]
    },
    {
     "name": "stdout",
     "output_type": "stream",
     "text": [
      "3/3 [==============================] - 5s 2s/step - loss: 0.0975 - accuracy: 0.9697 - val_loss: 0.4962 - val_accuracy: 0.8824\n",
      "Epoch 28/50\n",
      "1/3 [=========>....................] - ETA: 0s - loss: 0.0226 - accuracy: 1.0000\n",
      "Epoch 28: saving model to saved_model_no_tubelet\n"
     ]
    },
    {
     "name": "stderr",
     "output_type": "stream",
     "text": [
      "WARNING:absl:Found untraced functions such as embedding_1_layer_call_fn, embedding_1_layer_call_and_return_conditional_losses, multi_head_attention_1_layer_call_fn, multi_head_attention_1_layer_call_and_return_conditional_losses, layer_normalization_2_layer_call_fn while saving (showing 5 of 20). These functions will not be directly callable after loading.\n"
     ]
    },
    {
     "name": "stdout",
     "output_type": "stream",
     "text": [
      "INFO:tensorflow:Assets written to: saved_model_no_tubelet/assets\n"
     ]
    },
    {
     "name": "stderr",
     "output_type": "stream",
     "text": [
      "INFO:tensorflow:Assets written to: saved_model_no_tubelet/assets\n",
      "WARNING:py.warnings:/home/akash/anaconda3/envs/vision/lib/python3.9/site-packages/keras/engine/functional.py:1410: CustomMaskWarning: Custom mask layers require a config and must override get_config. When loading, the custom mask layer must be passed to the custom_objects argument.\n",
      "  layer_config = serialize_layer_fn(layer)\n",
      "\n",
      "WARNING:py.warnings:/home/akash/anaconda3/envs/vision/lib/python3.9/site-packages/keras/saving/saved_model/layer_serialization.py:112: CustomMaskWarning: Custom mask layers require a config and must override get_config. When loading, the custom mask layer must be passed to the custom_objects argument.\n",
      "  return generic_utils.serialize_keras_object(obj)\n",
      "\n"
     ]
    },
    {
     "name": "stdout",
     "output_type": "stream",
     "text": [
      "3/3 [==============================] - 4s 2s/step - loss: 0.0170 - accuracy: 1.0000 - val_loss: 0.5191 - val_accuracy: 0.8824\n",
      "Epoch 29/50\n",
      "1/3 [=========>....................] - ETA: 0s - loss: 0.0076 - accuracy: 1.0000\n",
      "Epoch 29: saving model to saved_model_no_tubelet\n"
     ]
    },
    {
     "name": "stderr",
     "output_type": "stream",
     "text": [
      "WARNING:absl:Found untraced functions such as embedding_1_layer_call_fn, embedding_1_layer_call_and_return_conditional_losses, multi_head_attention_1_layer_call_fn, multi_head_attention_1_layer_call_and_return_conditional_losses, layer_normalization_2_layer_call_fn while saving (showing 5 of 20). These functions will not be directly callable after loading.\n"
     ]
    },
    {
     "name": "stdout",
     "output_type": "stream",
     "text": [
      "INFO:tensorflow:Assets written to: saved_model_no_tubelet/assets\n"
     ]
    },
    {
     "name": "stderr",
     "output_type": "stream",
     "text": [
      "INFO:tensorflow:Assets written to: saved_model_no_tubelet/assets\n",
      "WARNING:py.warnings:/home/akash/anaconda3/envs/vision/lib/python3.9/site-packages/keras/engine/functional.py:1410: CustomMaskWarning: Custom mask layers require a config and must override get_config. When loading, the custom mask layer must be passed to the custom_objects argument.\n",
      "  layer_config = serialize_layer_fn(layer)\n",
      "\n",
      "WARNING:py.warnings:/home/akash/anaconda3/envs/vision/lib/python3.9/site-packages/keras/saving/saved_model/layer_serialization.py:112: CustomMaskWarning: Custom mask layers require a config and must override get_config. When loading, the custom mask layer must be passed to the custom_objects argument.\n",
      "  return generic_utils.serialize_keras_object(obj)\n",
      "\n"
     ]
    },
    {
     "name": "stdout",
     "output_type": "stream",
     "text": [
      "3/3 [==============================] - 4s 2s/step - loss: 0.0064 - accuracy: 1.0000 - val_loss: 0.5332 - val_accuracy: 0.8824\n",
      "Epoch 30/50\n",
      "1/3 [=========>....................] - ETA: 0s - loss: 0.0809 - accuracy: 0.9688\n",
      "Epoch 30: saving model to saved_model_no_tubelet\n"
     ]
    },
    {
     "name": "stderr",
     "output_type": "stream",
     "text": [
      "WARNING:absl:Found untraced functions such as embedding_1_layer_call_fn, embedding_1_layer_call_and_return_conditional_losses, multi_head_attention_1_layer_call_fn, multi_head_attention_1_layer_call_and_return_conditional_losses, layer_normalization_2_layer_call_fn while saving (showing 5 of 20). These functions will not be directly callable after loading.\n"
     ]
    },
    {
     "name": "stdout",
     "output_type": "stream",
     "text": [
      "INFO:tensorflow:Assets written to: saved_model_no_tubelet/assets\n"
     ]
    },
    {
     "name": "stderr",
     "output_type": "stream",
     "text": [
      "INFO:tensorflow:Assets written to: saved_model_no_tubelet/assets\n",
      "WARNING:py.warnings:/home/akash/anaconda3/envs/vision/lib/python3.9/site-packages/keras/engine/functional.py:1410: CustomMaskWarning: Custom mask layers require a config and must override get_config. When loading, the custom mask layer must be passed to the custom_objects argument.\n",
      "  layer_config = serialize_layer_fn(layer)\n",
      "\n",
      "WARNING:py.warnings:/home/akash/anaconda3/envs/vision/lib/python3.9/site-packages/keras/saving/saved_model/layer_serialization.py:112: CustomMaskWarning: Custom mask layers require a config and must override get_config. When loading, the custom mask layer must be passed to the custom_objects argument.\n",
      "  return generic_utils.serialize_keras_object(obj)\n",
      "\n"
     ]
    },
    {
     "name": "stdout",
     "output_type": "stream",
     "text": [
      "3/3 [==============================] - 5s 2s/step - loss: 0.0824 - accuracy: 0.9697 - val_loss: 0.7375 - val_accuracy: 0.8824\n",
      "Epoch 31/50\n",
      "1/3 [=========>....................] - ETA: 0s - loss: 0.0454 - accuracy: 0.9688\n",
      "Epoch 31: saving model to saved_model_no_tubelet\n"
     ]
    },
    {
     "name": "stderr",
     "output_type": "stream",
     "text": [
      "WARNING:absl:Found untraced functions such as embedding_1_layer_call_fn, embedding_1_layer_call_and_return_conditional_losses, multi_head_attention_1_layer_call_fn, multi_head_attention_1_layer_call_and_return_conditional_losses, layer_normalization_2_layer_call_fn while saving (showing 5 of 20). These functions will not be directly callable after loading.\n"
     ]
    },
    {
     "name": "stdout",
     "output_type": "stream",
     "text": [
      "INFO:tensorflow:Assets written to: saved_model_no_tubelet/assets\n"
     ]
    },
    {
     "name": "stderr",
     "output_type": "stream",
     "text": [
      "INFO:tensorflow:Assets written to: saved_model_no_tubelet/assets\n",
      "WARNING:py.warnings:/home/akash/anaconda3/envs/vision/lib/python3.9/site-packages/keras/engine/functional.py:1410: CustomMaskWarning: Custom mask layers require a config and must override get_config. When loading, the custom mask layer must be passed to the custom_objects argument.\n",
      "  layer_config = serialize_layer_fn(layer)\n",
      "\n",
      "WARNING:py.warnings:/home/akash/anaconda3/envs/vision/lib/python3.9/site-packages/keras/saving/saved_model/layer_serialization.py:112: CustomMaskWarning: Custom mask layers require a config and must override get_config. When loading, the custom mask layer must be passed to the custom_objects argument.\n",
      "  return generic_utils.serialize_keras_object(obj)\n",
      "\n"
     ]
    },
    {
     "name": "stdout",
     "output_type": "stream",
     "text": [
      "3/3 [==============================] - 4s 2s/step - loss: 0.0287 - accuracy: 0.9848 - val_loss: 0.9220 - val_accuracy: 0.8824\n",
      "Epoch 32/50\n",
      "1/3 [=========>....................] - ETA: 0s - loss: 0.0481 - accuracy: 0.9688\n",
      "Epoch 32: saving model to saved_model_no_tubelet\n"
     ]
    },
    {
     "name": "stderr",
     "output_type": "stream",
     "text": [
      "WARNING:absl:Found untraced functions such as embedding_1_layer_call_fn, embedding_1_layer_call_and_return_conditional_losses, multi_head_attention_1_layer_call_fn, multi_head_attention_1_layer_call_and_return_conditional_losses, layer_normalization_2_layer_call_fn while saving (showing 5 of 20). These functions will not be directly callable after loading.\n"
     ]
    },
    {
     "name": "stdout",
     "output_type": "stream",
     "text": [
      "INFO:tensorflow:Assets written to: saved_model_no_tubelet/assets\n"
     ]
    },
    {
     "name": "stderr",
     "output_type": "stream",
     "text": [
      "INFO:tensorflow:Assets written to: saved_model_no_tubelet/assets\n",
      "WARNING:py.warnings:/home/akash/anaconda3/envs/vision/lib/python3.9/site-packages/keras/engine/functional.py:1410: CustomMaskWarning: Custom mask layers require a config and must override get_config. When loading, the custom mask layer must be passed to the custom_objects argument.\n",
      "  layer_config = serialize_layer_fn(layer)\n",
      "\n",
      "WARNING:py.warnings:/home/akash/anaconda3/envs/vision/lib/python3.9/site-packages/keras/saving/saved_model/layer_serialization.py:112: CustomMaskWarning: Custom mask layers require a config and must override get_config. When loading, the custom mask layer must be passed to the custom_objects argument.\n",
      "  return generic_utils.serialize_keras_object(obj)\n",
      "\n"
     ]
    },
    {
     "name": "stdout",
     "output_type": "stream",
     "text": [
      "3/3 [==============================] - 4s 2s/step - loss: 0.0245 - accuracy: 0.9848 - val_loss: 0.7522 - val_accuracy: 0.8824\n",
      "Epoch 33/50\n",
      "1/3 [=========>....................] - ETA: 0s - loss: 0.0038 - accuracy: 1.0000\n",
      "Epoch 33: saving model to saved_model_no_tubelet\n"
     ]
    },
    {
     "name": "stderr",
     "output_type": "stream",
     "text": [
      "WARNING:absl:Found untraced functions such as embedding_1_layer_call_fn, embedding_1_layer_call_and_return_conditional_losses, multi_head_attention_1_layer_call_fn, multi_head_attention_1_layer_call_and_return_conditional_losses, layer_normalization_2_layer_call_fn while saving (showing 5 of 20). These functions will not be directly callable after loading.\n"
     ]
    },
    {
     "name": "stdout",
     "output_type": "stream",
     "text": [
      "INFO:tensorflow:Assets written to: saved_model_no_tubelet/assets\n"
     ]
    },
    {
     "name": "stderr",
     "output_type": "stream",
     "text": [
      "INFO:tensorflow:Assets written to: saved_model_no_tubelet/assets\n",
      "WARNING:py.warnings:/home/akash/anaconda3/envs/vision/lib/python3.9/site-packages/keras/engine/functional.py:1410: CustomMaskWarning: Custom mask layers require a config and must override get_config. When loading, the custom mask layer must be passed to the custom_objects argument.\n",
      "  layer_config = serialize_layer_fn(layer)\n",
      "\n",
      "WARNING:py.warnings:/home/akash/anaconda3/envs/vision/lib/python3.9/site-packages/keras/saving/saved_model/layer_serialization.py:112: CustomMaskWarning: Custom mask layers require a config and must override get_config. When loading, the custom mask layer must be passed to the custom_objects argument.\n",
      "  return generic_utils.serialize_keras_object(obj)\n",
      "\n"
     ]
    },
    {
     "name": "stdout",
     "output_type": "stream",
     "text": [
      "3/3 [==============================] - 5s 2s/step - loss: 0.0028 - accuracy: 1.0000 - val_loss: 0.6175 - val_accuracy: 0.8824\n",
      "Epoch 34/50\n",
      "1/3 [=========>....................] - ETA: 0s - loss: 0.0019 - accuracy: 1.0000\n",
      "Epoch 34: saving model to saved_model_no_tubelet\n"
     ]
    },
    {
     "name": "stderr",
     "output_type": "stream",
     "text": [
      "WARNING:absl:Found untraced functions such as embedding_1_layer_call_fn, embedding_1_layer_call_and_return_conditional_losses, multi_head_attention_1_layer_call_fn, multi_head_attention_1_layer_call_and_return_conditional_losses, layer_normalization_2_layer_call_fn while saving (showing 5 of 20). These functions will not be directly callable after loading.\n"
     ]
    },
    {
     "name": "stdout",
     "output_type": "stream",
     "text": [
      "INFO:tensorflow:Assets written to: saved_model_no_tubelet/assets\n"
     ]
    },
    {
     "name": "stderr",
     "output_type": "stream",
     "text": [
      "INFO:tensorflow:Assets written to: saved_model_no_tubelet/assets\n",
      "WARNING:py.warnings:/home/akash/anaconda3/envs/vision/lib/python3.9/site-packages/keras/engine/functional.py:1410: CustomMaskWarning: Custom mask layers require a config and must override get_config. When loading, the custom mask layer must be passed to the custom_objects argument.\n",
      "  layer_config = serialize_layer_fn(layer)\n",
      "\n",
      "WARNING:py.warnings:/home/akash/anaconda3/envs/vision/lib/python3.9/site-packages/keras/saving/saved_model/layer_serialization.py:112: CustomMaskWarning: Custom mask layers require a config and must override get_config. When loading, the custom mask layer must be passed to the custom_objects argument.\n",
      "  return generic_utils.serialize_keras_object(obj)\n",
      "\n"
     ]
    },
    {
     "name": "stdout",
     "output_type": "stream",
     "text": [
      "3/3 [==============================] - 4s 2s/step - loss: 0.0073 - accuracy: 1.0000 - val_loss: 0.5504 - val_accuracy: 0.8824\n",
      "Epoch 35/50\n",
      "1/3 [=========>....................] - ETA: 0s - loss: 0.0028 - accuracy: 1.0000\n",
      "Epoch 35: saving model to saved_model_no_tubelet\n"
     ]
    },
    {
     "name": "stderr",
     "output_type": "stream",
     "text": [
      "WARNING:absl:Found untraced functions such as embedding_1_layer_call_fn, embedding_1_layer_call_and_return_conditional_losses, multi_head_attention_1_layer_call_fn, multi_head_attention_1_layer_call_and_return_conditional_losses, layer_normalization_2_layer_call_fn while saving (showing 5 of 20). These functions will not be directly callable after loading.\n"
     ]
    },
    {
     "name": "stdout",
     "output_type": "stream",
     "text": [
      "INFO:tensorflow:Assets written to: saved_model_no_tubelet/assets\n"
     ]
    },
    {
     "name": "stderr",
     "output_type": "stream",
     "text": [
      "INFO:tensorflow:Assets written to: saved_model_no_tubelet/assets\n",
      "WARNING:py.warnings:/home/akash/anaconda3/envs/vision/lib/python3.9/site-packages/keras/engine/functional.py:1410: CustomMaskWarning: Custom mask layers require a config and must override get_config. When loading, the custom mask layer must be passed to the custom_objects argument.\n",
      "  layer_config = serialize_layer_fn(layer)\n",
      "\n",
      "WARNING:py.warnings:/home/akash/anaconda3/envs/vision/lib/python3.9/site-packages/keras/saving/saved_model/layer_serialization.py:112: CustomMaskWarning: Custom mask layers require a config and must override get_config. When loading, the custom mask layer must be passed to the custom_objects argument.\n",
      "  return generic_utils.serialize_keras_object(obj)\n",
      "\n"
     ]
    },
    {
     "name": "stdout",
     "output_type": "stream",
     "text": [
      "3/3 [==============================] - 4s 2s/step - loss: 0.0021 - accuracy: 1.0000 - val_loss: 0.5267 - val_accuracy: 0.8824\n",
      "Epoch 36/50\n",
      "1/3 [=========>....................] - ETA: 0s - loss: 0.0012 - accuracy: 1.0000\n",
      "Epoch 36: saving model to saved_model_no_tubelet\n"
     ]
    },
    {
     "name": "stderr",
     "output_type": "stream",
     "text": [
      "WARNING:absl:Found untraced functions such as embedding_1_layer_call_fn, embedding_1_layer_call_and_return_conditional_losses, multi_head_attention_1_layer_call_fn, multi_head_attention_1_layer_call_and_return_conditional_losses, layer_normalization_2_layer_call_fn while saving (showing 5 of 20). These functions will not be directly callable after loading.\n"
     ]
    },
    {
     "name": "stdout",
     "output_type": "stream",
     "text": [
      "INFO:tensorflow:Assets written to: saved_model_no_tubelet/assets\n"
     ]
    },
    {
     "name": "stderr",
     "output_type": "stream",
     "text": [
      "INFO:tensorflow:Assets written to: saved_model_no_tubelet/assets\n",
      "WARNING:py.warnings:/home/akash/anaconda3/envs/vision/lib/python3.9/site-packages/keras/engine/functional.py:1410: CustomMaskWarning: Custom mask layers require a config and must override get_config. When loading, the custom mask layer must be passed to the custom_objects argument.\n",
      "  layer_config = serialize_layer_fn(layer)\n",
      "\n",
      "WARNING:py.warnings:/home/akash/anaconda3/envs/vision/lib/python3.9/site-packages/keras/saving/saved_model/layer_serialization.py:112: CustomMaskWarning: Custom mask layers require a config and must override get_config. When loading, the custom mask layer must be passed to the custom_objects argument.\n",
      "  return generic_utils.serialize_keras_object(obj)\n",
      "\n"
     ]
    },
    {
     "name": "stdout",
     "output_type": "stream",
     "text": [
      "3/3 [==============================] - 5s 2s/step - loss: 5.7813e-04 - accuracy: 1.0000 - val_loss: 0.5092 - val_accuracy: 0.8824\n",
      "Epoch 37/50\n",
      "1/3 [=========>....................] - ETA: 0s - loss: 1.8088e-04 - accuracy: 1.0000\n",
      "Epoch 37: saving model to saved_model_no_tubelet\n"
     ]
    },
    {
     "name": "stderr",
     "output_type": "stream",
     "text": [
      "WARNING:absl:Found untraced functions such as embedding_1_layer_call_fn, embedding_1_layer_call_and_return_conditional_losses, multi_head_attention_1_layer_call_fn, multi_head_attention_1_layer_call_and_return_conditional_losses, layer_normalization_2_layer_call_fn while saving (showing 5 of 20). These functions will not be directly callable after loading.\n"
     ]
    },
    {
     "name": "stdout",
     "output_type": "stream",
     "text": [
      "INFO:tensorflow:Assets written to: saved_model_no_tubelet/assets\n"
     ]
    },
    {
     "name": "stderr",
     "output_type": "stream",
     "text": [
      "INFO:tensorflow:Assets written to: saved_model_no_tubelet/assets\n",
      "WARNING:py.warnings:/home/akash/anaconda3/envs/vision/lib/python3.9/site-packages/keras/engine/functional.py:1410: CustomMaskWarning: Custom mask layers require a config and must override get_config. When loading, the custom mask layer must be passed to the custom_objects argument.\n",
      "  layer_config = serialize_layer_fn(layer)\n",
      "\n",
      "WARNING:py.warnings:/home/akash/anaconda3/envs/vision/lib/python3.9/site-packages/keras/saving/saved_model/layer_serialization.py:112: CustomMaskWarning: Custom mask layers require a config and must override get_config. When loading, the custom mask layer must be passed to the custom_objects argument.\n",
      "  return generic_utils.serialize_keras_object(obj)\n",
      "\n"
     ]
    },
    {
     "name": "stdout",
     "output_type": "stream",
     "text": [
      "3/3 [==============================] - 4s 2s/step - loss: 1.5781e-04 - accuracy: 1.0000 - val_loss: 0.5011 - val_accuracy: 0.9412\n",
      "Epoch 38/50\n",
      "1/3 [=========>....................] - ETA: 0s - loss: 2.5910e-04 - accuracy: 1.0000\n",
      "Epoch 38: saving model to saved_model_no_tubelet\n"
     ]
    },
    {
     "name": "stderr",
     "output_type": "stream",
     "text": [
      "WARNING:absl:Found untraced functions such as embedding_1_layer_call_fn, embedding_1_layer_call_and_return_conditional_losses, multi_head_attention_1_layer_call_fn, multi_head_attention_1_layer_call_and_return_conditional_losses, layer_normalization_2_layer_call_fn while saving (showing 5 of 20). These functions will not be directly callable after loading.\n"
     ]
    },
    {
     "name": "stdout",
     "output_type": "stream",
     "text": [
      "INFO:tensorflow:Assets written to: saved_model_no_tubelet/assets\n"
     ]
    },
    {
     "name": "stderr",
     "output_type": "stream",
     "text": [
      "INFO:tensorflow:Assets written to: saved_model_no_tubelet/assets\n",
      "WARNING:py.warnings:/home/akash/anaconda3/envs/vision/lib/python3.9/site-packages/keras/engine/functional.py:1410: CustomMaskWarning: Custom mask layers require a config and must override get_config. When loading, the custom mask layer must be passed to the custom_objects argument.\n",
      "  layer_config = serialize_layer_fn(layer)\n",
      "\n",
      "WARNING:py.warnings:/home/akash/anaconda3/envs/vision/lib/python3.9/site-packages/keras/saving/saved_model/layer_serialization.py:112: CustomMaskWarning: Custom mask layers require a config and must override get_config. When loading, the custom mask layer must be passed to the custom_objects argument.\n",
      "  return generic_utils.serialize_keras_object(obj)\n",
      "\n"
     ]
    },
    {
     "name": "stdout",
     "output_type": "stream",
     "text": [
      "3/3 [==============================] - 3s 2s/step - loss: 1.3870e-04 - accuracy: 1.0000 - val_loss: 0.4969 - val_accuracy: 0.9412\n",
      "Epoch 39/50\n",
      "1/3 [=========>....................] - ETA: 0s - loss: 6.8113e-04 - accuracy: 1.0000\n",
      "Epoch 39: saving model to saved_model_no_tubelet\n"
     ]
    },
    {
     "name": "stderr",
     "output_type": "stream",
     "text": [
      "WARNING:absl:Found untraced functions such as embedding_1_layer_call_fn, embedding_1_layer_call_and_return_conditional_losses, multi_head_attention_1_layer_call_fn, multi_head_attention_1_layer_call_and_return_conditional_losses, layer_normalization_2_layer_call_fn while saving (showing 5 of 20). These functions will not be directly callable after loading.\n"
     ]
    },
    {
     "name": "stdout",
     "output_type": "stream",
     "text": [
      "INFO:tensorflow:Assets written to: saved_model_no_tubelet/assets\n"
     ]
    },
    {
     "name": "stderr",
     "output_type": "stream",
     "text": [
      "INFO:tensorflow:Assets written to: saved_model_no_tubelet/assets\n",
      "WARNING:py.warnings:/home/akash/anaconda3/envs/vision/lib/python3.9/site-packages/keras/engine/functional.py:1410: CustomMaskWarning: Custom mask layers require a config and must override get_config. When loading, the custom mask layer must be passed to the custom_objects argument.\n",
      "  layer_config = serialize_layer_fn(layer)\n",
      "\n",
      "WARNING:py.warnings:/home/akash/anaconda3/envs/vision/lib/python3.9/site-packages/keras/saving/saved_model/layer_serialization.py:112: CustomMaskWarning: Custom mask layers require a config and must override get_config. When loading, the custom mask layer must be passed to the custom_objects argument.\n",
      "  return generic_utils.serialize_keras_object(obj)\n",
      "\n"
     ]
    },
    {
     "name": "stdout",
     "output_type": "stream",
     "text": [
      "3/3 [==============================] - 4s 2s/step - loss: 3.3730e-04 - accuracy: 1.0000 - val_loss: 0.4974 - val_accuracy: 0.9412\n",
      "Epoch 40/50\n",
      "1/3 [=========>....................] - ETA: 0s - loss: 5.7022e-04 - accuracy: 1.0000\n",
      "Epoch 40: saving model to saved_model_no_tubelet\n"
     ]
    },
    {
     "name": "stderr",
     "output_type": "stream",
     "text": [
      "WARNING:absl:Found untraced functions such as embedding_1_layer_call_fn, embedding_1_layer_call_and_return_conditional_losses, multi_head_attention_1_layer_call_fn, multi_head_attention_1_layer_call_and_return_conditional_losses, layer_normalization_2_layer_call_fn while saving (showing 5 of 20). These functions will not be directly callable after loading.\n"
     ]
    },
    {
     "name": "stdout",
     "output_type": "stream",
     "text": [
      "INFO:tensorflow:Assets written to: saved_model_no_tubelet/assets\n"
     ]
    },
    {
     "name": "stderr",
     "output_type": "stream",
     "text": [
      "INFO:tensorflow:Assets written to: saved_model_no_tubelet/assets\n",
      "WARNING:py.warnings:/home/akash/anaconda3/envs/vision/lib/python3.9/site-packages/keras/engine/functional.py:1410: CustomMaskWarning: Custom mask layers require a config and must override get_config. When loading, the custom mask layer must be passed to the custom_objects argument.\n",
      "  layer_config = serialize_layer_fn(layer)\n",
      "\n",
      "WARNING:py.warnings:/home/akash/anaconda3/envs/vision/lib/python3.9/site-packages/keras/saving/saved_model/layer_serialization.py:112: CustomMaskWarning: Custom mask layers require a config and must override get_config. When loading, the custom mask layer must be passed to the custom_objects argument.\n",
      "  return generic_utils.serialize_keras_object(obj)\n",
      "\n"
     ]
    },
    {
     "name": "stdout",
     "output_type": "stream",
     "text": [
      "3/3 [==============================] - 3s 2s/step - loss: 2.9943e-04 - accuracy: 1.0000 - val_loss: 0.4958 - val_accuracy: 0.9412\n",
      "Epoch 41/50\n",
      "1/3 [=========>....................] - ETA: 0s - loss: 7.9977e-04 - accuracy: 1.0000\n",
      "Epoch 41: saving model to saved_model_no_tubelet\n"
     ]
    },
    {
     "name": "stderr",
     "output_type": "stream",
     "text": [
      "WARNING:absl:Found untraced functions such as embedding_1_layer_call_fn, embedding_1_layer_call_and_return_conditional_losses, multi_head_attention_1_layer_call_fn, multi_head_attention_1_layer_call_and_return_conditional_losses, layer_normalization_2_layer_call_fn while saving (showing 5 of 20). These functions will not be directly callable after loading.\n"
     ]
    },
    {
     "name": "stdout",
     "output_type": "stream",
     "text": [
      "INFO:tensorflow:Assets written to: saved_model_no_tubelet/assets\n"
     ]
    },
    {
     "name": "stderr",
     "output_type": "stream",
     "text": [
      "INFO:tensorflow:Assets written to: saved_model_no_tubelet/assets\n",
      "WARNING:py.warnings:/home/akash/anaconda3/envs/vision/lib/python3.9/site-packages/keras/engine/functional.py:1410: CustomMaskWarning: Custom mask layers require a config and must override get_config. When loading, the custom mask layer must be passed to the custom_objects argument.\n",
      "  layer_config = serialize_layer_fn(layer)\n",
      "\n",
      "WARNING:py.warnings:/home/akash/anaconda3/envs/vision/lib/python3.9/site-packages/keras/saving/saved_model/layer_serialization.py:112: CustomMaskWarning: Custom mask layers require a config and must override get_config. When loading, the custom mask layer must be passed to the custom_objects argument.\n",
      "  return generic_utils.serialize_keras_object(obj)\n",
      "\n"
     ]
    },
    {
     "name": "stdout",
     "output_type": "stream",
     "text": [
      "3/3 [==============================] - 4s 2s/step - loss: 8.4778e-04 - accuracy: 1.0000 - val_loss: 0.4940 - val_accuracy: 0.9412\n",
      "Epoch 42/50\n",
      "1/3 [=========>....................] - ETA: 0s - loss: 1.5306e-04 - accuracy: 1.0000\n",
      "Epoch 42: saving model to saved_model_no_tubelet\n"
     ]
    },
    {
     "name": "stderr",
     "output_type": "stream",
     "text": [
      "WARNING:absl:Found untraced functions such as embedding_1_layer_call_fn, embedding_1_layer_call_and_return_conditional_losses, multi_head_attention_1_layer_call_fn, multi_head_attention_1_layer_call_and_return_conditional_losses, layer_normalization_2_layer_call_fn while saving (showing 5 of 20). These functions will not be directly callable after loading.\n"
     ]
    },
    {
     "name": "stdout",
     "output_type": "stream",
     "text": [
      "INFO:tensorflow:Assets written to: saved_model_no_tubelet/assets\n"
     ]
    },
    {
     "name": "stderr",
     "output_type": "stream",
     "text": [
      "INFO:tensorflow:Assets written to: saved_model_no_tubelet/assets\n",
      "WARNING:py.warnings:/home/akash/anaconda3/envs/vision/lib/python3.9/site-packages/keras/engine/functional.py:1410: CustomMaskWarning: Custom mask layers require a config and must override get_config. When loading, the custom mask layer must be passed to the custom_objects argument.\n",
      "  layer_config = serialize_layer_fn(layer)\n",
      "\n",
      "WARNING:py.warnings:/home/akash/anaconda3/envs/vision/lib/python3.9/site-packages/keras/saving/saved_model/layer_serialization.py:112: CustomMaskWarning: Custom mask layers require a config and must override get_config. When loading, the custom mask layer must be passed to the custom_objects argument.\n",
      "  return generic_utils.serialize_keras_object(obj)\n",
      "\n"
     ]
    },
    {
     "name": "stdout",
     "output_type": "stream",
     "text": [
      "3/3 [==============================] - 4s 2s/step - loss: 1.3688e-04 - accuracy: 1.0000 - val_loss: 0.4900 - val_accuracy: 0.9412\n",
      "Epoch 43/50\n",
      "1/3 [=========>....................] - ETA: 0s - loss: 0.0035 - accuracy: 1.0000\n",
      "Epoch 43: saving model to saved_model_no_tubelet\n"
     ]
    },
    {
     "name": "stderr",
     "output_type": "stream",
     "text": [
      "WARNING:absl:Found untraced functions such as embedding_1_layer_call_fn, embedding_1_layer_call_and_return_conditional_losses, multi_head_attention_1_layer_call_fn, multi_head_attention_1_layer_call_and_return_conditional_losses, layer_normalization_2_layer_call_fn while saving (showing 5 of 20). These functions will not be directly callable after loading.\n"
     ]
    },
    {
     "name": "stdout",
     "output_type": "stream",
     "text": [
      "INFO:tensorflow:Assets written to: saved_model_no_tubelet/assets\n"
     ]
    },
    {
     "name": "stderr",
     "output_type": "stream",
     "text": [
      "INFO:tensorflow:Assets written to: saved_model_no_tubelet/assets\n",
      "WARNING:py.warnings:/home/akash/anaconda3/envs/vision/lib/python3.9/site-packages/keras/engine/functional.py:1410: CustomMaskWarning: Custom mask layers require a config and must override get_config. When loading, the custom mask layer must be passed to the custom_objects argument.\n",
      "  layer_config = serialize_layer_fn(layer)\n",
      "\n",
      "WARNING:py.warnings:/home/akash/anaconda3/envs/vision/lib/python3.9/site-packages/keras/saving/saved_model/layer_serialization.py:112: CustomMaskWarning: Custom mask layers require a config and must override get_config. When loading, the custom mask layer must be passed to the custom_objects argument.\n",
      "  return generic_utils.serialize_keras_object(obj)\n",
      "\n"
     ]
    },
    {
     "name": "stdout",
     "output_type": "stream",
     "text": [
      "3/3 [==============================] - 4s 2s/step - loss: 0.0019 - accuracy: 1.0000 - val_loss: 0.4910 - val_accuracy: 0.9412\n",
      "Epoch 44/50\n",
      "1/3 [=========>....................] - ETA: 0s - loss: 0.0017 - accuracy: 1.0000\n",
      "Epoch 44: saving model to saved_model_no_tubelet\n"
     ]
    },
    {
     "name": "stderr",
     "output_type": "stream",
     "text": [
      "WARNING:absl:Found untraced functions such as embedding_1_layer_call_fn, embedding_1_layer_call_and_return_conditional_losses, multi_head_attention_1_layer_call_fn, multi_head_attention_1_layer_call_and_return_conditional_losses, layer_normalization_2_layer_call_fn while saving (showing 5 of 20). These functions will not be directly callable after loading.\n"
     ]
    },
    {
     "name": "stdout",
     "output_type": "stream",
     "text": [
      "INFO:tensorflow:Assets written to: saved_model_no_tubelet/assets\n"
     ]
    },
    {
     "name": "stderr",
     "output_type": "stream",
     "text": [
      "INFO:tensorflow:Assets written to: saved_model_no_tubelet/assets\n",
      "WARNING:py.warnings:/home/akash/anaconda3/envs/vision/lib/python3.9/site-packages/keras/engine/functional.py:1410: CustomMaskWarning: Custom mask layers require a config and must override get_config. When loading, the custom mask layer must be passed to the custom_objects argument.\n",
      "  layer_config = serialize_layer_fn(layer)\n",
      "\n",
      "WARNING:py.warnings:/home/akash/anaconda3/envs/vision/lib/python3.9/site-packages/keras/saving/saved_model/layer_serialization.py:112: CustomMaskWarning: Custom mask layers require a config and must override get_config. When loading, the custom mask layer must be passed to the custom_objects argument.\n",
      "  return generic_utils.serialize_keras_object(obj)\n",
      "\n"
     ]
    },
    {
     "name": "stdout",
     "output_type": "stream",
     "text": [
      "3/3 [==============================] - 4s 2s/step - loss: 8.3649e-04 - accuracy: 1.0000 - val_loss: 0.4850 - val_accuracy: 0.9412\n",
      "Epoch 45/50\n",
      "1/3 [=========>....................] - ETA: 0s - loss: 3.8986e-04 - accuracy: 1.0000\n",
      "Epoch 45: saving model to saved_model_no_tubelet\n"
     ]
    },
    {
     "name": "stderr",
     "output_type": "stream",
     "text": [
      "WARNING:absl:Found untraced functions such as embedding_1_layer_call_fn, embedding_1_layer_call_and_return_conditional_losses, multi_head_attention_1_layer_call_fn, multi_head_attention_1_layer_call_and_return_conditional_losses, layer_normalization_2_layer_call_fn while saving (showing 5 of 20). These functions will not be directly callable after loading.\n"
     ]
    },
    {
     "name": "stdout",
     "output_type": "stream",
     "text": [
      "INFO:tensorflow:Assets written to: saved_model_no_tubelet/assets\n"
     ]
    },
    {
     "name": "stderr",
     "output_type": "stream",
     "text": [
      "INFO:tensorflow:Assets written to: saved_model_no_tubelet/assets\n",
      "WARNING:py.warnings:/home/akash/anaconda3/envs/vision/lib/python3.9/site-packages/keras/engine/functional.py:1410: CustomMaskWarning: Custom mask layers require a config and must override get_config. When loading, the custom mask layer must be passed to the custom_objects argument.\n",
      "  layer_config = serialize_layer_fn(layer)\n",
      "\n",
      "WARNING:py.warnings:/home/akash/anaconda3/envs/vision/lib/python3.9/site-packages/keras/saving/saved_model/layer_serialization.py:112: CustomMaskWarning: Custom mask layers require a config and must override get_config. When loading, the custom mask layer must be passed to the custom_objects argument.\n",
      "  return generic_utils.serialize_keras_object(obj)\n",
      "\n"
     ]
    },
    {
     "name": "stdout",
     "output_type": "stream",
     "text": [
      "3/3 [==============================] - 4s 2s/step - loss: 0.0052 - accuracy: 1.0000 - val_loss: 0.5022 - val_accuracy: 0.9412\n",
      "Epoch 46/50\n",
      "3/3 [==============================] - ETA: 0s - loss: 0.0039 - accuracy: 1.0000    \n",
      "Epoch 46: saving model to saved_model_no_tubelet\n"
     ]
    },
    {
     "name": "stderr",
     "output_type": "stream",
     "text": [
      "WARNING:absl:Found untraced functions such as embedding_1_layer_call_fn, embedding_1_layer_call_and_return_conditional_losses, multi_head_attention_1_layer_call_fn, multi_head_attention_1_layer_call_and_return_conditional_losses, layer_normalization_2_layer_call_fn while saving (showing 5 of 20). These functions will not be directly callable after loading.\n"
     ]
    },
    {
     "name": "stdout",
     "output_type": "stream",
     "text": [
      "INFO:tensorflow:Assets written to: saved_model_no_tubelet/assets\n"
     ]
    },
    {
     "name": "stderr",
     "output_type": "stream",
     "text": [
      "INFO:tensorflow:Assets written to: saved_model_no_tubelet/assets\n",
      "WARNING:py.warnings:/home/akash/anaconda3/envs/vision/lib/python3.9/site-packages/keras/engine/functional.py:1410: CustomMaskWarning: Custom mask layers require a config and must override get_config. When loading, the custom mask layer must be passed to the custom_objects argument.\n",
      "  layer_config = serialize_layer_fn(layer)\n",
      "\n",
      "WARNING:py.warnings:/home/akash/anaconda3/envs/vision/lib/python3.9/site-packages/keras/saving/saved_model/layer_serialization.py:112: CustomMaskWarning: Custom mask layers require a config and must override get_config. When loading, the custom mask layer must be passed to the custom_objects argument.\n",
      "  return generic_utils.serialize_keras_object(obj)\n",
      "\n"
     ]
    },
    {
     "name": "stdout",
     "output_type": "stream",
     "text": [
      "3/3 [==============================] - 4s 2s/step - loss: 0.0039 - accuracy: 1.0000 - val_loss: 0.5543 - val_accuracy: 0.9412\n",
      "Epoch 47/50\n",
      "1/3 [=========>....................] - ETA: 0s - loss: 9.0710e-04 - accuracy: 1.0000\n",
      "Epoch 47: saving model to saved_model_no_tubelet\n"
     ]
    },
    {
     "name": "stderr",
     "output_type": "stream",
     "text": [
      "WARNING:absl:Found untraced functions such as embedding_1_layer_call_fn, embedding_1_layer_call_and_return_conditional_losses, multi_head_attention_1_layer_call_fn, multi_head_attention_1_layer_call_and_return_conditional_losses, layer_normalization_2_layer_call_fn while saving (showing 5 of 20). These functions will not be directly callable after loading.\n"
     ]
    },
    {
     "name": "stdout",
     "output_type": "stream",
     "text": [
      "INFO:tensorflow:Assets written to: saved_model_no_tubelet/assets\n"
     ]
    },
    {
     "name": "stderr",
     "output_type": "stream",
     "text": [
      "INFO:tensorflow:Assets written to: saved_model_no_tubelet/assets\n",
      "WARNING:py.warnings:/home/akash/anaconda3/envs/vision/lib/python3.9/site-packages/keras/engine/functional.py:1410: CustomMaskWarning: Custom mask layers require a config and must override get_config. When loading, the custom mask layer must be passed to the custom_objects argument.\n",
      "  layer_config = serialize_layer_fn(layer)\n",
      "\n",
      "WARNING:py.warnings:/home/akash/anaconda3/envs/vision/lib/python3.9/site-packages/keras/saving/saved_model/layer_serialization.py:112: CustomMaskWarning: Custom mask layers require a config and must override get_config. When loading, the custom mask layer must be passed to the custom_objects argument.\n",
      "  return generic_utils.serialize_keras_object(obj)\n",
      "\n"
     ]
    },
    {
     "name": "stdout",
     "output_type": "stream",
     "text": [
      "3/3 [==============================] - 5s 2s/step - loss: 0.0055 - accuracy: 1.0000 - val_loss: 0.5955 - val_accuracy: 0.9412\n",
      "Epoch 48/50\n",
      "1/3 [=========>....................] - ETA: 0s - loss: 6.4793e-05 - accuracy: 1.0000\n",
      "Epoch 48: saving model to saved_model_no_tubelet\n"
     ]
    },
    {
     "name": "stderr",
     "output_type": "stream",
     "text": [
      "WARNING:absl:Found untraced functions such as embedding_1_layer_call_fn, embedding_1_layer_call_and_return_conditional_losses, multi_head_attention_1_layer_call_fn, multi_head_attention_1_layer_call_and_return_conditional_losses, layer_normalization_2_layer_call_fn while saving (showing 5 of 20). These functions will not be directly callable after loading.\n"
     ]
    },
    {
     "name": "stdout",
     "output_type": "stream",
     "text": [
      "INFO:tensorflow:Assets written to: saved_model_no_tubelet/assets\n"
     ]
    },
    {
     "name": "stderr",
     "output_type": "stream",
     "text": [
      "INFO:tensorflow:Assets written to: saved_model_no_tubelet/assets\n",
      "WARNING:py.warnings:/home/akash/anaconda3/envs/vision/lib/python3.9/site-packages/keras/engine/functional.py:1410: CustomMaskWarning: Custom mask layers require a config and must override get_config. When loading, the custom mask layer must be passed to the custom_objects argument.\n",
      "  layer_config = serialize_layer_fn(layer)\n",
      "\n",
      "WARNING:py.warnings:/home/akash/anaconda3/envs/vision/lib/python3.9/site-packages/keras/saving/saved_model/layer_serialization.py:112: CustomMaskWarning: Custom mask layers require a config and must override get_config. When loading, the custom mask layer must be passed to the custom_objects argument.\n",
      "  return generic_utils.serialize_keras_object(obj)\n",
      "\n"
     ]
    },
    {
     "name": "stdout",
     "output_type": "stream",
     "text": [
      "3/3 [==============================] - 4s 2s/step - loss: 5.9198e-05 - accuracy: 1.0000 - val_loss: 0.6254 - val_accuracy: 0.8824\n",
      "Epoch 49/50\n",
      "1/3 [=========>....................] - ETA: 0s - loss: 1.2875e-04 - accuracy: 1.0000\n",
      "Epoch 49: saving model to saved_model_no_tubelet\n"
     ]
    },
    {
     "name": "stderr",
     "output_type": "stream",
     "text": [
      "WARNING:absl:Found untraced functions such as embedding_1_layer_call_fn, embedding_1_layer_call_and_return_conditional_losses, multi_head_attention_1_layer_call_fn, multi_head_attention_1_layer_call_and_return_conditional_losses, layer_normalization_2_layer_call_fn while saving (showing 5 of 20). These functions will not be directly callable after loading.\n"
     ]
    },
    {
     "name": "stdout",
     "output_type": "stream",
     "text": [
      "INFO:tensorflow:Assets written to: saved_model_no_tubelet/assets\n"
     ]
    },
    {
     "name": "stderr",
     "output_type": "stream",
     "text": [
      "INFO:tensorflow:Assets written to: saved_model_no_tubelet/assets\n",
      "WARNING:py.warnings:/home/akash/anaconda3/envs/vision/lib/python3.9/site-packages/keras/engine/functional.py:1410: CustomMaskWarning: Custom mask layers require a config and must override get_config. When loading, the custom mask layer must be passed to the custom_objects argument.\n",
      "  layer_config = serialize_layer_fn(layer)\n",
      "\n",
      "WARNING:py.warnings:/home/akash/anaconda3/envs/vision/lib/python3.9/site-packages/keras/saving/saved_model/layer_serialization.py:112: CustomMaskWarning: Custom mask layers require a config and must override get_config. When loading, the custom mask layer must be passed to the custom_objects argument.\n",
      "  return generic_utils.serialize_keras_object(obj)\n",
      "\n"
     ]
    },
    {
     "name": "stdout",
     "output_type": "stream",
     "text": [
      "3/3 [==============================] - 3s 2s/step - loss: 6.9740e-04 - accuracy: 1.0000 - val_loss: 0.6188 - val_accuracy: 0.8824\n",
      "Epoch 50/50\n",
      "1/3 [=========>....................] - ETA: 0s - loss: 0.0018 - accuracy: 1.0000\n",
      "Epoch 50: saving model to saved_model_no_tubelet\n"
     ]
    },
    {
     "name": "stderr",
     "output_type": "stream",
     "text": [
      "WARNING:absl:Found untraced functions such as embedding_1_layer_call_fn, embedding_1_layer_call_and_return_conditional_losses, multi_head_attention_1_layer_call_fn, multi_head_attention_1_layer_call_and_return_conditional_losses, layer_normalization_2_layer_call_fn while saving (showing 5 of 20). These functions will not be directly callable after loading.\n"
     ]
    },
    {
     "name": "stdout",
     "output_type": "stream",
     "text": [
      "INFO:tensorflow:Assets written to: saved_model_no_tubelet/assets\n"
     ]
    },
    {
     "name": "stderr",
     "output_type": "stream",
     "text": [
      "INFO:tensorflow:Assets written to: saved_model_no_tubelet/assets\n",
      "WARNING:py.warnings:/home/akash/anaconda3/envs/vision/lib/python3.9/site-packages/keras/engine/functional.py:1410: CustomMaskWarning: Custom mask layers require a config and must override get_config. When loading, the custom mask layer must be passed to the custom_objects argument.\n",
      "  layer_config = serialize_layer_fn(layer)\n",
      "\n",
      "WARNING:py.warnings:/home/akash/anaconda3/envs/vision/lib/python3.9/site-packages/keras/saving/saved_model/layer_serialization.py:112: CustomMaskWarning: Custom mask layers require a config and must override get_config. When loading, the custom mask layer must be passed to the custom_objects argument.\n",
      "  return generic_utils.serialize_keras_object(obj)\n",
      "\n"
     ]
    },
    {
     "name": "stdout",
     "output_type": "stream",
     "text": [
      "3/3 [==============================] - 4s 2s/step - loss: 0.0012 - accuracy: 1.0000 - val_loss: 0.5580 - val_accuracy: 0.9412\n",
      "Total eplased time: 3.508\n"
     ]
    }
   ],
   "source": [
    "import time\n",
    "start_time=time.time()\n",
    "saved_filespath='saved_model_no_tubelet'\n",
    "checkpoint=tf.keras.callbacks.ModelCheckpoint(saved_filespath,saved_best_only=True,saved_weights_only=True,verbose=1)\n",
    "vit_model_no_tubelet.fit(x=X_train,y=y_train,validation_split=0.2,verbose=1,epochs=50,shuffle=True,\n",
    "             callbacks=[checkpoint])\n",
    "total_time=(time.time()-start_time)/60.0\n",
    "print('Total eplased time: {:.3f}'.format(total_time))"
   ]
  },
  {
   "cell_type": "code",
   "execution_count": 42,
   "id": "80e2b8a9",
   "metadata": {
    "scrolled": true
   },
   "outputs": [
    {
     "name": "stdout",
     "output_type": "stream",
     "text": [
      "2/2 [==============================] - 0s 10ms/step - loss: 0.1835 - accuracy: 0.9762\n"
     ]
    },
    {
     "data": {
      "text/plain": [
       "[0.18348415195941925, 0.976190447807312]"
      ]
     },
     "execution_count": 42,
     "metadata": {},
     "output_type": "execute_result"
    }
   ],
   "source": [
    "vit_model_no_tubelet.evaluate(x=X_test,y=y_test,verbose=1)"
   ]
  },
  {
   "cell_type": "code",
   "execution_count": null,
   "id": "6f00b597",
   "metadata": {},
   "outputs": [],
   "source": []
  }
 ],
 "metadata": {
  "kernelspec": {
   "display_name": "Python 3 (ipykernel)",
   "language": "python",
   "name": "python3"
  },
  "language_info": {
   "codemirror_mode": {
    "name": "ipython",
    "version": 3
   },
   "file_extension": ".py",
   "mimetype": "text/x-python",
   "name": "python",
   "nbconvert_exporter": "python",
   "pygments_lexer": "ipython3",
   "version": "3.9.7"
  }
 },
 "nbformat": 4,
 "nbformat_minor": 5
}

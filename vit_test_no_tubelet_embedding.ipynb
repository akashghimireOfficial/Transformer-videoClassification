{
 "cells": [
  {
   "cell_type": "code",
   "execution_count": 1,
   "id": "7f4d33bd",
   "metadata": {},
   "outputs": [
    {
     "name": "stderr",
     "output_type": "stream",
     "text": [
      "2022-03-16 16:59:17.788845: I tensorflow/stream_executor/cuda/cuda_gpu_executor.cc:936] successful NUMA node read from SysFS had negative value (-1), but there must be at least one NUMA node, so returning NUMA node zero\n",
      "2022-03-16 16:59:17.819943: I tensorflow/stream_executor/cuda/cuda_gpu_executor.cc:936] successful NUMA node read from SysFS had negative value (-1), but there must be at least one NUMA node, so returning NUMA node zero\n",
      "2022-03-16 16:59:17.820309: I tensorflow/stream_executor/cuda/cuda_gpu_executor.cc:936] successful NUMA node read from SysFS had negative value (-1), but there must be at least one NUMA node, so returning NUMA node zero\n",
      "2022-03-16 16:59:17.821517: I tensorflow/core/platform/cpu_feature_guard.cc:151] This TensorFlow binary is optimized with oneAPI Deep Neural Network Library (oneDNN) to use the following CPU instructions in performance-critical operations:  AVX2 FMA\n",
      "To enable them in other operations, rebuild TensorFlow with the appropriate compiler flags.\n",
      "2022-03-16 16:59:17.856864: I tensorflow/stream_executor/cuda/cuda_gpu_executor.cc:936] successful NUMA node read from SysFS had negative value (-1), but there must be at least one NUMA node, so returning NUMA node zero\n",
      "2022-03-16 16:59:17.857575: I tensorflow/stream_executor/cuda/cuda_gpu_executor.cc:936] successful NUMA node read from SysFS had negative value (-1), but there must be at least one NUMA node, so returning NUMA node zero\n",
      "2022-03-16 16:59:17.857949: I tensorflow/stream_executor/cuda/cuda_gpu_executor.cc:936] successful NUMA node read from SysFS had negative value (-1), but there must be at least one NUMA node, so returning NUMA node zero\n",
      "2022-03-16 16:59:18.536212: I tensorflow/stream_executor/cuda/cuda_gpu_executor.cc:936] successful NUMA node read from SysFS had negative value (-1), but there must be at least one NUMA node, so returning NUMA node zero\n",
      "2022-03-16 16:59:18.536484: I tensorflow/stream_executor/cuda/cuda_gpu_executor.cc:936] successful NUMA node read from SysFS had negative value (-1), but there must be at least one NUMA node, so returning NUMA node zero\n",
      "2022-03-16 16:59:18.536986: I tensorflow/stream_executor/cuda/cuda_gpu_executor.cc:936] successful NUMA node read from SysFS had negative value (-1), but there must be at least one NUMA node, so returning NUMA node zero\n",
      "2022-03-16 16:59:18.537215: I tensorflow/core/common_runtime/gpu/gpu_device.cc:1525] Created device /job:localhost/replica:0/task:0/device:GPU:0 with 5456 MB memory:  -> device: 0, name: NVIDIA GeForce RTX 3070 Laptop GPU, pci bus id: 0000:01:00.0, compute capability: 8.6\n"
     ]
    }
   ],
   "source": [
    "from tensorflow_docs.vis import embed\n",
    "from tensorflow.keras import layers\n",
    "from tensorflow.keras.layers import Dense,Dropout,GlobalMaxPool1D\n",
    "from tensorflow.keras.optimizers import Adam\n",
    "import matplotlib.pyplot as plt\n",
    "import tensorflow as tf\n",
    "from sklearn.model_selection import train_test_split\n",
    "from tensorflow.keras.utils import to_categorical,plot_model\n",
    "import time\n",
    "import pandas as pd\n",
    "import numpy as np\n",
    "import imageio\n",
    "from numpy import random\n",
    "import cv2 as cv\n",
    "import pafy\n",
    "import os\n",
    "%matplotlib inline\n",
    "\n",
    "import datetime as dt \n",
    "from collections import deque\n",
    "from moviepy.editor import *\n",
    "import pafy\n",
    "import random\n",
    "import time\n",
    "\n",
    "from create_dataset import *\n",
    "\n"
   ]
  },
  {
   "cell_type": "code",
   "execution_count": 2,
   "id": "82adbbef",
   "metadata": {},
   "outputs": [],
   "source": [
    "import build_model"
   ]
  },
  {
   "cell_type": "code",
   "execution_count": 3,
   "id": "09da3c33",
   "metadata": {},
   "outputs": [],
   "source": [
    "vit_model=build_model.get_compiled_model()"
   ]
  },
  {
   "cell_type": "code",
   "execution_count": 4,
   "id": "1208612c",
   "metadata": {
    "scrolled": false
   },
   "outputs": [
    {
     "name": "stderr",
     "output_type": "stream",
     "text": [
      "2022-03-16 16:59:50.600526: W tensorflow/core/util/tensor_slice_reader.cc:96] Could not open saved_model: FAILED_PRECONDITION: saved_model; Is a directory: perhaps your file is in a different file format and you need to use a different restore operator?\n"
     ]
    },
    {
     "data": {
      "text/plain": [
       "<tensorflow.python.training.tracking.util.CheckpointLoadStatus at 0x7f9458633430>"
      ]
     },
     "execution_count": 4,
     "metadata": {},
     "output_type": "execute_result"
    }
   ],
   "source": [
    "vit_model.load_weights('saved_model')"
   ]
  },
  {
   "cell_type": "code",
   "execution_count": 5,
   "id": "9e57205e",
   "metadata": {},
   "outputs": [],
   "source": [
    "feature_extractor=features_extraction_model()\n"
   ]
  },
  {
   "cell_type": "code",
   "execution_count": 6,
   "id": "843bc522",
   "metadata": {},
   "outputs": [],
   "source": [
    "X_test=build_model.X_test\n",
    "y_test=build_model.y_test\n",
    "class_names=CLASSES_LIST"
   ]
  },
  {
   "cell_type": "code",
   "execution_count": 7,
   "id": "f956916a",
   "metadata": {},
   "outputs": [],
   "source": [
    "IMG_SIZE=resized_height\n",
    "seq_len=seq_len"
   ]
  },
  {
   "cell_type": "code",
   "execution_count": 8,
   "id": "d3bb42cc",
   "metadata": {},
   "outputs": [
    {
     "name": "stderr",
     "output_type": "stream",
     "text": [
      "2022-03-16 17:00:08.481045: I tensorflow/stream_executor/cuda/cuda_blas.cc:1786] TensorFloat-32 will be used for the matrix multiplication. This will only be logged once.\n"
     ]
    },
    {
     "name": "stdout",
     "output_type": "stream",
     "text": [
      "2/2 [==============================] - 2s 9ms/step - loss: 0.2474 - accuracy: 0.9762\n"
     ]
    },
    {
     "name": "stderr",
     "output_type": "stream",
     "text": [
      "2022-03-16 17:00:08.689143: I tensorflow/stream_executor/cuda/cuda_dnn.cc:368] Loaded cuDNN version 8300\n"
     ]
    },
    {
     "data": {
      "text/plain": [
       "[0.24735523760318756, 0.976190447807312]"
      ]
     },
     "execution_count": 8,
     "metadata": {},
     "output_type": "execute_result"
    }
   ],
   "source": [
    "vit_model.evaluate(X_test,y_test,verbose=1)"
   ]
  },
  {
   "cell_type": "code",
   "execution_count": 9,
   "id": "35f86aef",
   "metadata": {},
   "outputs": [],
   "source": [
    "test_video_dire='test_video.mp4'"
   ]
  },
  {
   "cell_type": "code",
   "execution_count": 16,
   "id": "8bc817aa",
   "metadata": {},
   "outputs": [],
   "source": [
    "def predict_on_untrimmed(video_dire,output_file_path,seq_len):\n",
    "    video_reader=cv.VideoCapture(video_dire)\n",
    "    vides_total_frame=int(video_reader.get(cv.CAP_PROP_FRAME_COUNT))\n",
    "    origianal_width=int(video_reader.get(cv.CAP_PROP_FRAME_WIDTH))\n",
    "    original_height=int(video_reader.get(cv.CAP_PROP_FRAME_HEIGHT))\n",
    "    video_writer = cv.VideoWriter(output_file_path, cv.VideoWriter_fourcc('M', 'P', '4', 'V'), \n",
    "                                   video_reader.get(cv.CAP_PROP_FPS), (origianal_width, original_height))\n",
    "    frame_queue=deque(maxlen=seq_len)\n",
    "    predict_class_name=''\n",
    "    start_time=time.time()\n",
    "    while video_reader.isOpened():\n",
    "        success,frame=video_reader.read()\n",
    "        if not success:\n",
    "            break\n",
    "        resize_frame=cv.resize(frame,(IMG_SIZE,IMG_SIZE))    \n",
    "        frame_queue.append(resize_frame)\n",
    "        if len(frame_queue)==seq_len:\n",
    "            frames=np.asarray(frame_queue)\n",
    "            \n",
    "            features=feature_extractor.predict(frames).reshape(-1,20,1024)\n",
    "            probs=vit_model.predict(features)[0]\n",
    "            text_height=15\n",
    "            for class_name,prob in zip(class_names,probs):\n",
    "                text='{}: {:.5f}'.format(class_name,prob)\n",
    "                cv.putText(frame, text, (10, text_height), cv.FONT_HERSHEY_SIMPLEX, 0.5, (255, 0, 0), 1)\n",
    "                text_height=text_height+35\n",
    "            \n",
    "                \n",
    "            \n",
    "        video_writer.write(frame)    \n",
    "        \n",
    "    end_time=time.time()\n",
    "    \n",
    "    print('start_time: {}'.format(start_time))\n",
    "    print('end_time: {}'.format(end_time))\n",
    "    print(\"num_frame: {}\".format(vides_total_frame))\n",
    "    seconds=end_time-start_time\n",
    "    fps=vides_total_frame/seconds\n",
    "    print('fps: ',fps)    \n",
    "    video_reader.release()\n",
    "    video_writer.release()\n",
    "     "
   ]
  },
  {
   "cell_type": "code",
   "execution_count": 17,
   "id": "fe43d95d",
   "metadata": {},
   "outputs": [
    {
     "name": "stderr",
     "output_type": "stream",
     "text": [
      "OpenCV: FFMPEG: tag 0x5634504d/'MP4V' is not supported with codec id 12 and format 'mp4 / MP4 (MPEG-4 Part 14)'\n",
      "OpenCV: FFMPEG: fallback to use tag 0x7634706d/'mp4v'\n"
     ]
    },
    {
     "name": "stdout",
     "output_type": "stream",
     "text": [
      "start_time: 1647418145.1062174\n",
      "end_time: 1647418307.6346984\n",
      "num_frame: 866\n",
      "fps:  5.328296890713661\n"
     ]
    }
   ],
   "source": [
    "predict_on_untrimmed(test_video_dire,'demo.mp4',seq_len)"
   ]
  },
  {
   "cell_type": "code",
   "execution_count": 16,
   "id": "65d5142c",
   "metadata": {},
   "outputs": [],
   "source": [
    "frames=np.asarray(frames)"
   ]
  },
  {
   "cell_type": "code",
   "execution_count": 17,
   "id": "b25b36a1",
   "metadata": {},
   "outputs": [
    {
     "data": {
      "text/plain": [
       "(1, 20, 128, 128, 3)"
      ]
     },
     "execution_count": 17,
     "metadata": {},
     "output_type": "execute_result"
    }
   ],
   "source": [
    "frames.shape"
   ]
  },
  {
   "cell_type": "code",
   "execution_count": 26,
   "id": "a9ccbe21",
   "metadata": {},
   "outputs": [
    {
     "data": {
      "text/plain": [
       "(240, 320, 3)"
      ]
     },
     "execution_count": 26,
     "metadata": {},
     "output_type": "execute_result"
    }
   ],
   "source": [
    "frame.shape"
   ]
  },
  {
   "cell_type": "code",
   "execution_count": 22,
   "id": "c68d1870",
   "metadata": {},
   "outputs": [],
   "source": [
    "test=feature_extractor.predict(frames).reshape(-1,20,1024)"
   ]
  },
  {
   "cell_type": "code",
   "execution_count": 25,
   "id": "60c1615a",
   "metadata": {},
   "outputs": [],
   "source": [
    "probs=vit_model.predict(test)[0]"
   ]
  },
  {
   "cell_type": "code",
   "execution_count": 28,
   "id": "2a1718f8",
   "metadata": {},
   "outputs": [
    {
     "name": "stdout",
     "output_type": "stream",
     "text": [
      "WalkingWithDog: 1.00000\n",
      "TaiChi: 0.00000\n",
      "Swing: 0.00000\n",
      "HorseRace: 0.00000\n"
     ]
    }
   ],
   "source": [
    "for class_name,prob in zip(class_names,probs):\n",
    "    print(\"{}: {:.5f}\".format(class_name,prob))"
   ]
  },
  {
   "cell_type": "code",
   "execution_count": null,
   "id": "e7826342",
   "metadata": {},
   "outputs": [],
   "source": [
    "cv.imshow('',frame)\n",
    "cv.waitKey(0)\n",
    "cv.destroyAllWindows()"
   ]
  },
  {
   "cell_type": "code",
   "execution_count": 2,
   "id": "023603df",
   "metadata": {},
   "outputs": [],
   "source": [
    "frame=cv.imread('test.png')"
   ]
  },
  {
   "cell_type": "code",
   "execution_count": 3,
   "id": "42f6a2be",
   "metadata": {},
   "outputs": [
    {
     "data": {
      "text/plain": [
       "(576, 1024, 3)"
      ]
     },
     "execution_count": 3,
     "metadata": {},
     "output_type": "execute_result"
    }
   ],
   "source": [
    "frame.shape"
   ]
  },
  {
   "cell_type": "code",
   "execution_count": null,
   "id": "6d007275",
   "metadata": {},
   "outputs": [],
   "source": [
    "cv.imshow('',frame)\n",
    "cv.waitKey(0)\n",
    "cv.destroyAllWindows()"
   ]
  },
  {
   "cell_type": "code",
   "execution_count": null,
   "id": "de7e5888",
   "metadata": {},
   "outputs": [],
   "source": []
  }
 ],
 "metadata": {
  "kernelspec": {
   "display_name": "Python 3 (ipykernel)",
   "language": "python",
   "name": "python3"
  },
  "language_info": {
   "codemirror_mode": {
    "name": "ipython",
    "version": 3
   },
   "file_extension": ".py",
   "mimetype": "text/x-python",
   "name": "python",
   "nbconvert_exporter": "python",
   "pygments_lexer": "ipython3",
   "version": "3.9.7"
  }
 },
 "nbformat": 4,
 "nbformat_minor": 5
}
